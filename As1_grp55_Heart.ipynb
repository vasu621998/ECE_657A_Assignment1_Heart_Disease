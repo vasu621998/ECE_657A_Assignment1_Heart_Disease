{
 "cells": [
  {
   "cell_type": "code",
   "execution_count": 260,
   "metadata": {
    "id": "DAEHiaL8tzLf"
   },
   "outputs": [],
   "source": [
    "#Importing Libraries\n",
    "import pandas as pd\n",
    "import numpy as np\n",
    "import matplotlib.pyplot as plt\n",
    "import seaborn as sns\n",
    "\n",
    "from sklearn.model_selection import train_test_split\n",
    "from sklearn.preprocessing import StandardScaler\n",
    "from sklearn.neighbors import KNeighborsClassifier\n",
    "from sklearn.metrics import confusion_matrix, accuracy_score\n",
    "from sklearn.metrics import f1_score\n",
    "from sklearn.preprocessing import RobustScaler"
   ]
  },
  {
   "cell_type": "markdown",
   "metadata": {
    "id": "fnPbOnAZuyoz"
   },
   "source": [
    "# Importing Heart Dataset\n"
   ]
  },
  {
   "cell_type": "code",
   "execution_count": 261,
   "metadata": {
    "colab": {
     "base_uri": "https://localhost:8080/",
     "height": 202
    },
    "id": "w335t_cavGuL",
    "outputId": "559c806a-7cc6-44a8-d4ac-4fef2c4f2bda"
   },
   "outputs": [
    {
     "data": {
      "text/html": [
       "<div>\n",
       "<style scoped>\n",
       "    .dataframe tbody tr th:only-of-type {\n",
       "        vertical-align: middle;\n",
       "    }\n",
       "\n",
       "    .dataframe tbody tr th {\n",
       "        vertical-align: top;\n",
       "    }\n",
       "\n",
       "    .dataframe thead th {\n",
       "        text-align: right;\n",
       "    }\n",
       "</style>\n",
       "<table border=\"1\" class=\"dataframe\">\n",
       "  <thead>\n",
       "    <tr style=\"text-align: right;\">\n",
       "      <th></th>\n",
       "      <th>age</th>\n",
       "      <th>sex</th>\n",
       "      <th>cp</th>\n",
       "      <th>trestbps</th>\n",
       "      <th>chol</th>\n",
       "      <th>fbs</th>\n",
       "      <th>restecg</th>\n",
       "      <th>thalach</th>\n",
       "      <th>exang</th>\n",
       "      <th>oldpeak</th>\n",
       "      <th>slope</th>\n",
       "      <th>ca</th>\n",
       "      <th>thal</th>\n",
       "      <th>target</th>\n",
       "    </tr>\n",
       "  </thead>\n",
       "  <tbody>\n",
       "    <tr>\n",
       "      <th>0</th>\n",
       "      <td>76</td>\n",
       "      <td>0</td>\n",
       "      <td>2</td>\n",
       "      <td>140.102822</td>\n",
       "      <td>197.105970</td>\n",
       "      <td>0</td>\n",
       "      <td>2.0</td>\n",
       "      <td>115.952071</td>\n",
       "      <td>0</td>\n",
       "      <td>1.284822</td>\n",
       "      <td>1.0</td>\n",
       "      <td>0</td>\n",
       "      <td>2.175904</td>\n",
       "      <td>1</td>\n",
       "    </tr>\n",
       "    <tr>\n",
       "      <th>1</th>\n",
       "      <td>43</td>\n",
       "      <td>0</td>\n",
       "      <td>0</td>\n",
       "      <td>132.079599</td>\n",
       "      <td>341.049462</td>\n",
       "      <td>1</td>\n",
       "      <td>0.0</td>\n",
       "      <td>135.970028</td>\n",
       "      <td>1</td>\n",
       "      <td>3.110483</td>\n",
       "      <td>1.0</td>\n",
       "      <td>0</td>\n",
       "      <td>3.082071</td>\n",
       "      <td>0</td>\n",
       "    </tr>\n",
       "    <tr>\n",
       "      <th>2</th>\n",
       "      <td>47</td>\n",
       "      <td>1</td>\n",
       "      <td>2</td>\n",
       "      <td>107.899290</td>\n",
       "      <td>242.822816</td>\n",
       "      <td>0</td>\n",
       "      <td>1.0</td>\n",
       "      <td>152.210039</td>\n",
       "      <td>0</td>\n",
       "      <td>-0.023723</td>\n",
       "      <td>2.0</td>\n",
       "      <td>0</td>\n",
       "      <td>2.020827</td>\n",
       "      <td>0</td>\n",
       "    </tr>\n",
       "    <tr>\n",
       "      <th>3</th>\n",
       "      <td>51</td>\n",
       "      <td>1</td>\n",
       "      <td>2</td>\n",
       "      <td>99.934001</td>\n",
       "      <td>NaN</td>\n",
       "      <td>0</td>\n",
       "      <td>1.0</td>\n",
       "      <td>143.049207</td>\n",
       "      <td>1</td>\n",
       "      <td>1.195082</td>\n",
       "      <td>1.0</td>\n",
       "      <td>0</td>\n",
       "      <td>2.100312</td>\n",
       "      <td>1</td>\n",
       "    </tr>\n",
       "    <tr>\n",
       "      <th>4</th>\n",
       "      <td>57</td>\n",
       "      <td>1</td>\n",
       "      <td>0</td>\n",
       "      <td>110.103508</td>\n",
       "      <td>334.952353</td>\n",
       "      <td>0</td>\n",
       "      <td>1.0</td>\n",
       "      <td>143.099327</td>\n",
       "      <td>1</td>\n",
       "      <td>3.082052</td>\n",
       "      <td>1.0</td>\n",
       "      <td>1</td>\n",
       "      <td>2.831509</td>\n",
       "      <td>0</td>\n",
       "    </tr>\n",
       "  </tbody>\n",
       "</table>\n",
       "</div>"
      ],
      "text/plain": [
       "   age  sex  cp    trestbps        chol  ...   oldpeak  slope  ca      thal  target\n",
       "0   76    0   2  140.102822  197.105970  ...  1.284822    1.0   0  2.175904       1\n",
       "1   43    0   0  132.079599  341.049462  ...  3.110483    1.0   0  3.082071       0\n",
       "2   47    1   2  107.899290  242.822816  ... -0.023723    2.0   0  2.020827       0\n",
       "3   51    1   2   99.934001         NaN  ...  1.195082    1.0   0  2.100312       1\n",
       "4   57    1   0  110.103508  334.952353  ...  3.082052    1.0   1  2.831509       0\n",
       "\n",
       "[5 rows x 14 columns]"
      ]
     },
     "execution_count": 261,
     "metadata": {
      "tags": []
     },
     "output_type": "execute_result"
    }
   ],
   "source": [
    "heart = pd.read_csv('/content/heart_disease_missing (1) (1).csv')\n",
    "heart.head(5)"
   ]
  },
  {
   "cell_type": "code",
   "execution_count": 262,
   "metadata": {
    "colab": {
     "base_uri": "https://localhost:8080/",
     "height": 314
    },
    "id": "w-QISbD8iOQF",
    "outputId": "8501927a-56cc-4959-9af3-6b96416466b7"
   },
   "outputs": [
    {
     "data": {
      "text/html": [
       "<div>\n",
       "<style scoped>\n",
       "    .dataframe tbody tr th:only-of-type {\n",
       "        vertical-align: middle;\n",
       "    }\n",
       "\n",
       "    .dataframe tbody tr th {\n",
       "        vertical-align: top;\n",
       "    }\n",
       "\n",
       "    .dataframe thead th {\n",
       "        text-align: right;\n",
       "    }\n",
       "</style>\n",
       "<table border=\"1\" class=\"dataframe\">\n",
       "  <thead>\n",
       "    <tr style=\"text-align: right;\">\n",
       "      <th></th>\n",
       "      <th>age</th>\n",
       "      <th>sex</th>\n",
       "      <th>cp</th>\n",
       "      <th>trestbps</th>\n",
       "      <th>chol</th>\n",
       "      <th>fbs</th>\n",
       "      <th>restecg</th>\n",
       "      <th>thalach</th>\n",
       "      <th>exang</th>\n",
       "      <th>oldpeak</th>\n",
       "      <th>slope</th>\n",
       "      <th>ca</th>\n",
       "      <th>thal</th>\n",
       "      <th>target</th>\n",
       "    </tr>\n",
       "  </thead>\n",
       "  <tbody>\n",
       "    <tr>\n",
       "      <th>count</th>\n",
       "      <td>212.000000</td>\n",
       "      <td>212.000000</td>\n",
       "      <td>212.000000</td>\n",
       "      <td>205.000000</td>\n",
       "      <td>202.000000</td>\n",
       "      <td>212.000000</td>\n",
       "      <td>207.000000</td>\n",
       "      <td>208.000000</td>\n",
       "      <td>212.000000</td>\n",
       "      <td>200.000000</td>\n",
       "      <td>210.000000</td>\n",
       "      <td>212.000000</td>\n",
       "      <td>211.000000</td>\n",
       "      <td>212.000000</td>\n",
       "    </tr>\n",
       "    <tr>\n",
       "      <th>mean</th>\n",
       "      <td>54.311321</td>\n",
       "      <td>0.688679</td>\n",
       "      <td>0.957547</td>\n",
       "      <td>131.784610</td>\n",
       "      <td>244.133256</td>\n",
       "      <td>0.132075</td>\n",
       "      <td>0.560386</td>\n",
       "      <td>149.647978</td>\n",
       "      <td>0.344340</td>\n",
       "      <td>1.113106</td>\n",
       "      <td>1.423810</td>\n",
       "      <td>0.731132</td>\n",
       "      <td>2.349112</td>\n",
       "      <td>0.542453</td>\n",
       "    </tr>\n",
       "    <tr>\n",
       "      <th>std</th>\n",
       "      <td>9.145339</td>\n",
       "      <td>0.464130</td>\n",
       "      <td>1.022537</td>\n",
       "      <td>18.057222</td>\n",
       "      <td>46.444257</td>\n",
       "      <td>0.339374</td>\n",
       "      <td>0.535149</td>\n",
       "      <td>22.076206</td>\n",
       "      <td>0.476277</td>\n",
       "      <td>1.255908</td>\n",
       "      <td>0.623622</td>\n",
       "      <td>1.038762</td>\n",
       "      <td>0.602117</td>\n",
       "      <td>0.499374</td>\n",
       "    </tr>\n",
       "    <tr>\n",
       "      <th>min</th>\n",
       "      <td>29.000000</td>\n",
       "      <td>0.000000</td>\n",
       "      <td>0.000000</td>\n",
       "      <td>93.944184</td>\n",
       "      <td>126.085811</td>\n",
       "      <td>0.000000</td>\n",
       "      <td>0.000000</td>\n",
       "      <td>88.032613</td>\n",
       "      <td>0.000000</td>\n",
       "      <td>-0.185668</td>\n",
       "      <td>0.000000</td>\n",
       "      <td>0.000000</td>\n",
       "      <td>0.858554</td>\n",
       "      <td>0.000000</td>\n",
       "    </tr>\n",
       "    <tr>\n",
       "      <th>25%</th>\n",
       "      <td>47.000000</td>\n",
       "      <td>0.000000</td>\n",
       "      <td>0.000000</td>\n",
       "      <td>119.968114</td>\n",
       "      <td>211.969594</td>\n",
       "      <td>0.000000</td>\n",
       "      <td>0.000000</td>\n",
       "      <td>135.946808</td>\n",
       "      <td>0.000000</td>\n",
       "      <td>0.050778</td>\n",
       "      <td>1.000000</td>\n",
       "      <td>0.000000</td>\n",
       "      <td>1.949795</td>\n",
       "      <td>0.000000</td>\n",
       "    </tr>\n",
       "    <tr>\n",
       "      <th>50%</th>\n",
       "      <td>55.000000</td>\n",
       "      <td>1.000000</td>\n",
       "      <td>1.000000</td>\n",
       "      <td>130.010256</td>\n",
       "      <td>241.467023</td>\n",
       "      <td>0.000000</td>\n",
       "      <td>1.000000</td>\n",
       "      <td>151.939216</td>\n",
       "      <td>0.000000</td>\n",
       "      <td>0.726060</td>\n",
       "      <td>1.000000</td>\n",
       "      <td>0.000000</td>\n",
       "      <td>2.078759</td>\n",
       "      <td>1.000000</td>\n",
       "    </tr>\n",
       "    <tr>\n",
       "      <th>75%</th>\n",
       "      <td>61.000000</td>\n",
       "      <td>1.000000</td>\n",
       "      <td>2.000000</td>\n",
       "      <td>139.965470</td>\n",
       "      <td>272.484222</td>\n",
       "      <td>0.000000</td>\n",
       "      <td>1.000000</td>\n",
       "      <td>165.260092</td>\n",
       "      <td>1.000000</td>\n",
       "      <td>1.816733</td>\n",
       "      <td>2.000000</td>\n",
       "      <td>1.000000</td>\n",
       "      <td>2.970842</td>\n",
       "      <td>1.000000</td>\n",
       "    </tr>\n",
       "    <tr>\n",
       "      <th>max</th>\n",
       "      <td>77.000000</td>\n",
       "      <td>1.000000</td>\n",
       "      <td>3.000000</td>\n",
       "      <td>192.020200</td>\n",
       "      <td>406.932689</td>\n",
       "      <td>1.000000</td>\n",
       "      <td>2.000000</td>\n",
       "      <td>202.138041</td>\n",
       "      <td>1.000000</td>\n",
       "      <td>6.157114</td>\n",
       "      <td>2.000000</td>\n",
       "      <td>4.000000</td>\n",
       "      <td>3.277466</td>\n",
       "      <td>1.000000</td>\n",
       "    </tr>\n",
       "  </tbody>\n",
       "</table>\n",
       "</div>"
      ],
      "text/plain": [
       "              age         sex          cp  ...          ca        thal      target\n",
       "count  212.000000  212.000000  212.000000  ...  212.000000  211.000000  212.000000\n",
       "mean    54.311321    0.688679    0.957547  ...    0.731132    2.349112    0.542453\n",
       "std      9.145339    0.464130    1.022537  ...    1.038762    0.602117    0.499374\n",
       "min     29.000000    0.000000    0.000000  ...    0.000000    0.858554    0.000000\n",
       "25%     47.000000    0.000000    0.000000  ...    0.000000    1.949795    0.000000\n",
       "50%     55.000000    1.000000    1.000000  ...    0.000000    2.078759    1.000000\n",
       "75%     61.000000    1.000000    2.000000  ...    1.000000    2.970842    1.000000\n",
       "max     77.000000    1.000000    3.000000  ...    4.000000    3.277466    1.000000\n",
       "\n",
       "[8 rows x 14 columns]"
      ]
     },
     "execution_count": 262,
     "metadata": {
      "tags": []
     },
     "output_type": "execute_result"
    }
   ],
   "source": [
    "heart.describe()"
   ]
  },
  {
   "cell_type": "code",
   "execution_count": 263,
   "metadata": {
    "id": "9Ns-eUKPdXZl"
   },
   "outputs": [],
   "source": [
    "heart['thal'] = heart.thal.round(0)"
   ]
  },
  {
   "cell_type": "code",
   "execution_count": 264,
   "metadata": {
    "colab": {
     "base_uri": "https://localhost:8080/",
     "height": 202
    },
    "id": "BqKwbJt7tpcj",
    "outputId": "69c53d5f-5620-442c-9ae1-91885d132fa8"
   },
   "outputs": [
    {
     "data": {
      "text/html": [
       "<div>\n",
       "<style scoped>\n",
       "    .dataframe tbody tr th:only-of-type {\n",
       "        vertical-align: middle;\n",
       "    }\n",
       "\n",
       "    .dataframe tbody tr th {\n",
       "        vertical-align: top;\n",
       "    }\n",
       "\n",
       "    .dataframe thead th {\n",
       "        text-align: right;\n",
       "    }\n",
       "</style>\n",
       "<table border=\"1\" class=\"dataframe\">\n",
       "  <thead>\n",
       "    <tr style=\"text-align: right;\">\n",
       "      <th></th>\n",
       "      <th>age</th>\n",
       "      <th>sex</th>\n",
       "      <th>cp</th>\n",
       "      <th>trestbps</th>\n",
       "      <th>chol</th>\n",
       "      <th>fbs</th>\n",
       "      <th>restecg</th>\n",
       "      <th>thalach</th>\n",
       "      <th>exang</th>\n",
       "      <th>oldpeak</th>\n",
       "      <th>slope</th>\n",
       "      <th>ca</th>\n",
       "      <th>thal</th>\n",
       "      <th>target</th>\n",
       "    </tr>\n",
       "  </thead>\n",
       "  <tbody>\n",
       "    <tr>\n",
       "      <th>0</th>\n",
       "      <td>76</td>\n",
       "      <td>0</td>\n",
       "      <td>2</td>\n",
       "      <td>140.102822</td>\n",
       "      <td>197.105970</td>\n",
       "      <td>0</td>\n",
       "      <td>2.0</td>\n",
       "      <td>115.952071</td>\n",
       "      <td>0</td>\n",
       "      <td>1.284822</td>\n",
       "      <td>1.0</td>\n",
       "      <td>0</td>\n",
       "      <td>2.0</td>\n",
       "      <td>1</td>\n",
       "    </tr>\n",
       "    <tr>\n",
       "      <th>1</th>\n",
       "      <td>43</td>\n",
       "      <td>0</td>\n",
       "      <td>0</td>\n",
       "      <td>132.079599</td>\n",
       "      <td>341.049462</td>\n",
       "      <td>1</td>\n",
       "      <td>0.0</td>\n",
       "      <td>135.970028</td>\n",
       "      <td>1</td>\n",
       "      <td>3.110483</td>\n",
       "      <td>1.0</td>\n",
       "      <td>0</td>\n",
       "      <td>3.0</td>\n",
       "      <td>0</td>\n",
       "    </tr>\n",
       "    <tr>\n",
       "      <th>2</th>\n",
       "      <td>47</td>\n",
       "      <td>1</td>\n",
       "      <td>2</td>\n",
       "      <td>107.899290</td>\n",
       "      <td>242.822816</td>\n",
       "      <td>0</td>\n",
       "      <td>1.0</td>\n",
       "      <td>152.210039</td>\n",
       "      <td>0</td>\n",
       "      <td>-0.023723</td>\n",
       "      <td>2.0</td>\n",
       "      <td>0</td>\n",
       "      <td>2.0</td>\n",
       "      <td>0</td>\n",
       "    </tr>\n",
       "    <tr>\n",
       "      <th>3</th>\n",
       "      <td>51</td>\n",
       "      <td>1</td>\n",
       "      <td>2</td>\n",
       "      <td>99.934001</td>\n",
       "      <td>NaN</td>\n",
       "      <td>0</td>\n",
       "      <td>1.0</td>\n",
       "      <td>143.049207</td>\n",
       "      <td>1</td>\n",
       "      <td>1.195082</td>\n",
       "      <td>1.0</td>\n",
       "      <td>0</td>\n",
       "      <td>2.0</td>\n",
       "      <td>1</td>\n",
       "    </tr>\n",
       "    <tr>\n",
       "      <th>4</th>\n",
       "      <td>57</td>\n",
       "      <td>1</td>\n",
       "      <td>0</td>\n",
       "      <td>110.103508</td>\n",
       "      <td>334.952353</td>\n",
       "      <td>0</td>\n",
       "      <td>1.0</td>\n",
       "      <td>143.099327</td>\n",
       "      <td>1</td>\n",
       "      <td>3.082052</td>\n",
       "      <td>1.0</td>\n",
       "      <td>1</td>\n",
       "      <td>3.0</td>\n",
       "      <td>0</td>\n",
       "    </tr>\n",
       "  </tbody>\n",
       "</table>\n",
       "</div>"
      ],
      "text/plain": [
       "   age  sex  cp    trestbps        chol  ...   oldpeak  slope  ca  thal  target\n",
       "0   76    0   2  140.102822  197.105970  ...  1.284822    1.0   0   2.0       1\n",
       "1   43    0   0  132.079599  341.049462  ...  3.110483    1.0   0   3.0       0\n",
       "2   47    1   2  107.899290  242.822816  ... -0.023723    2.0   0   2.0       0\n",
       "3   51    1   2   99.934001         NaN  ...  1.195082    1.0   0   2.0       1\n",
       "4   57    1   0  110.103508  334.952353  ...  3.082052    1.0   1   3.0       0\n",
       "\n",
       "[5 rows x 14 columns]"
      ]
     },
     "execution_count": 264,
     "metadata": {
      "tags": []
     },
     "output_type": "execute_result"
    }
   ],
   "source": [
    "heart.head(5)"
   ]
  },
  {
   "cell_type": "markdown",
   "metadata": {
    "id": "UumuyHi3l4iG"
   },
   "source": [
    "#CM5 Cleaning the dataset"
   ]
  },
  {
   "cell_type": "markdown",
   "metadata": {
    "id": "DYcBvp7nWst5"
   },
   "source": [
    "For the numerical features of the dataset we have decided to fill the missing values with the mean of that particular column."
   ]
  },
  {
   "cell_type": "code",
   "execution_count": 265,
   "metadata": {
    "id": "ENaaDqTPim8A"
   },
   "outputs": [],
   "source": [
    "no_zeros = ['trestbps', 'chol', 'oldpeak', 'thalach']\n",
    "for column in no_zeros:\n",
    "    mean = int(heart[column].mean(skipna=True))\n",
    "    heart[column] = heart[column].replace(np.NaN, mean)"
   ]
  },
  {
   "cell_type": "markdown",
   "metadata": {
    "id": "4K2TEOuFnFym"
   },
   "source": [
    "For the features which are not numerical we filled the missing values with its own frequent values occuring in that column."
   ]
  },
  {
   "cell_type": "code",
   "execution_count": 266,
   "metadata": {
    "id": "lSMx8zTDlFQi"
   },
   "outputs": [],
   "source": [
    "heart = heart.apply(lambda x:x.fillna(x.value_counts().index[0]))"
   ]
  },
  {
   "cell_type": "code",
   "execution_count": 267,
   "metadata": {
    "colab": {
     "base_uri": "https://localhost:8080/"
    },
    "id": "aclodeUzlNDC",
    "outputId": "1b23ce39-b3ec-4cf2-a9bd-55a4c5470571"
   },
   "outputs": [
    {
     "data": {
      "text/plain": [
       "age         0\n",
       "sex         0\n",
       "cp          0\n",
       "trestbps    0\n",
       "chol        0\n",
       "fbs         0\n",
       "restecg     0\n",
       "thalach     0\n",
       "exang       0\n",
       "oldpeak     0\n",
       "slope       0\n",
       "ca          0\n",
       "thal        0\n",
       "target      0\n",
       "dtype: int64"
      ]
     },
     "execution_count": 267,
     "metadata": {
      "tags": []
     },
     "output_type": "execute_result"
    }
   ],
   "source": [
    "heart.isnull().sum()"
   ]
  },
  {
   "cell_type": "markdown",
   "metadata": {
    "id": "HUXhq8TPoF6b"
   },
   "source": [
    "# CM1"
   ]
  },
  {
   "cell_type": "code",
   "execution_count": 268,
   "metadata": {
    "colab": {
     "base_uri": "https://localhost:8080/",
     "height": 498
    },
    "id": "9FAz0tdjxjlq",
    "outputId": "36db60a9-b88b-462e-ad66-76dd1be5b08f"
   },
   "outputs": [
    {
     "data": {
      "text/html": [
       "<div>\n",
       "<style scoped>\n",
       "    .dataframe tbody tr th:only-of-type {\n",
       "        vertical-align: middle;\n",
       "    }\n",
       "\n",
       "    .dataframe tbody tr th {\n",
       "        vertical-align: top;\n",
       "    }\n",
       "\n",
       "    .dataframe thead th {\n",
       "        text-align: right;\n",
       "    }\n",
       "</style>\n",
       "<table border=\"1\" class=\"dataframe\">\n",
       "  <thead>\n",
       "    <tr style=\"text-align: right;\">\n",
       "      <th></th>\n",
       "      <th>age</th>\n",
       "      <th>sex</th>\n",
       "      <th>cp</th>\n",
       "      <th>trestbps</th>\n",
       "      <th>chol</th>\n",
       "      <th>fbs</th>\n",
       "      <th>restecg</th>\n",
       "      <th>thalach</th>\n",
       "      <th>exang</th>\n",
       "      <th>oldpeak</th>\n",
       "      <th>slope</th>\n",
       "      <th>ca</th>\n",
       "      <th>thal</th>\n",
       "      <th>target</th>\n",
       "    </tr>\n",
       "  </thead>\n",
       "  <tbody>\n",
       "    <tr>\n",
       "      <th>age</th>\n",
       "      <td>1.000000</td>\n",
       "      <td>-0.140074</td>\n",
       "      <td>-0.084230</td>\n",
       "      <td>0.331658</td>\n",
       "      <td>0.182401</td>\n",
       "      <td>0.050823</td>\n",
       "      <td>-0.126079</td>\n",
       "      <td>-0.378662</td>\n",
       "      <td>0.114545</td>\n",
       "      <td>0.132230</td>\n",
       "      <td>-0.109214</td>\n",
       "      <td>0.266278</td>\n",
       "      <td>0.049211</td>\n",
       "      <td>-0.196967</td>\n",
       "    </tr>\n",
       "    <tr>\n",
       "      <th>sex</th>\n",
       "      <td>-0.140074</td>\n",
       "      <td>1.000000</td>\n",
       "      <td>-0.057939</td>\n",
       "      <td>-0.049192</td>\n",
       "      <td>-0.190650</td>\n",
       "      <td>0.081750</td>\n",
       "      <td>-0.044643</td>\n",
       "      <td>0.017224</td>\n",
       "      <td>0.122773</td>\n",
       "      <td>0.097203</td>\n",
       "      <td>-0.060134</td>\n",
       "      <td>0.120466</td>\n",
       "      <td>0.215171</td>\n",
       "      <td>-0.249428</td>\n",
       "    </tr>\n",
       "    <tr>\n",
       "      <th>cp</th>\n",
       "      <td>-0.084230</td>\n",
       "      <td>-0.057939</td>\n",
       "      <td>1.000000</td>\n",
       "      <td>-0.006780</td>\n",
       "      <td>-0.060037</td>\n",
       "      <td>0.057205</td>\n",
       "      <td>0.035974</td>\n",
       "      <td>0.243749</td>\n",
       "      <td>-0.349369</td>\n",
       "      <td>-0.182464</td>\n",
       "      <td>0.155173</td>\n",
       "      <td>-0.180350</td>\n",
       "      <td>-0.164629</td>\n",
       "      <td>0.490819</td>\n",
       "    </tr>\n",
       "    <tr>\n",
       "      <th>trestbps</th>\n",
       "      <td>0.331658</td>\n",
       "      <td>-0.049192</td>\n",
       "      <td>-0.006780</td>\n",
       "      <td>1.000000</td>\n",
       "      <td>0.157087</td>\n",
       "      <td>0.133590</td>\n",
       "      <td>-0.111503</td>\n",
       "      <td>-0.098125</td>\n",
       "      <td>0.086803</td>\n",
       "      <td>0.161440</td>\n",
       "      <td>-0.130404</td>\n",
       "      <td>0.079756</td>\n",
       "      <td>0.036511</td>\n",
       "      <td>-0.115553</td>\n",
       "    </tr>\n",
       "    <tr>\n",
       "      <th>chol</th>\n",
       "      <td>0.182401</td>\n",
       "      <td>-0.190650</td>\n",
       "      <td>-0.060037</td>\n",
       "      <td>0.157087</td>\n",
       "      <td>1.000000</td>\n",
       "      <td>-0.025398</td>\n",
       "      <td>-0.084644</td>\n",
       "      <td>-0.056064</td>\n",
       "      <td>0.064030</td>\n",
       "      <td>0.048593</td>\n",
       "      <td>0.023602</td>\n",
       "      <td>0.037260</td>\n",
       "      <td>-0.015071</td>\n",
       "      <td>-0.076160</td>\n",
       "    </tr>\n",
       "    <tr>\n",
       "      <th>fbs</th>\n",
       "      <td>0.050823</td>\n",
       "      <td>0.081750</td>\n",
       "      <td>0.057205</td>\n",
       "      <td>0.133590</td>\n",
       "      <td>-0.025398</td>\n",
       "      <td>1.000000</td>\n",
       "      <td>-0.104312</td>\n",
       "      <td>0.037098</td>\n",
       "      <td>0.098474</td>\n",
       "      <td>-0.092217</td>\n",
       "      <td>-0.022832</td>\n",
       "      <td>0.128097</td>\n",
       "      <td>0.026077</td>\n",
       "      <td>-0.005276</td>\n",
       "    </tr>\n",
       "    <tr>\n",
       "      <th>restecg</th>\n",
       "      <td>-0.126079</td>\n",
       "      <td>-0.044643</td>\n",
       "      <td>0.035974</td>\n",
       "      <td>-0.111503</td>\n",
       "      <td>-0.084644</td>\n",
       "      <td>-0.104312</td>\n",
       "      <td>1.000000</td>\n",
       "      <td>0.035211</td>\n",
       "      <td>-0.049757</td>\n",
       "      <td>-0.075841</td>\n",
       "      <td>0.072221</td>\n",
       "      <td>-0.081040</td>\n",
       "      <td>-0.042585</td>\n",
       "      <td>0.095500</td>\n",
       "    </tr>\n",
       "    <tr>\n",
       "      <th>thalach</th>\n",
       "      <td>-0.378662</td>\n",
       "      <td>0.017224</td>\n",
       "      <td>0.243749</td>\n",
       "      <td>-0.098125</td>\n",
       "      <td>-0.056064</td>\n",
       "      <td>0.037098</td>\n",
       "      <td>0.035211</td>\n",
       "      <td>1.000000</td>\n",
       "      <td>-0.357161</td>\n",
       "      <td>-0.344809</td>\n",
       "      <td>0.439127</td>\n",
       "      <td>-0.176630</td>\n",
       "      <td>-0.148644</td>\n",
       "      <td>0.411448</td>\n",
       "    </tr>\n",
       "    <tr>\n",
       "      <th>exang</th>\n",
       "      <td>0.114545</td>\n",
       "      <td>0.122773</td>\n",
       "      <td>-0.349369</td>\n",
       "      <td>0.086803</td>\n",
       "      <td>0.064030</td>\n",
       "      <td>0.098474</td>\n",
       "      <td>-0.049757</td>\n",
       "      <td>-0.357161</td>\n",
       "      <td>1.000000</td>\n",
       "      <td>0.279166</td>\n",
       "      <td>-0.308743</td>\n",
       "      <td>0.101805</td>\n",
       "      <td>0.206719</td>\n",
       "      <td>-0.450321</td>\n",
       "    </tr>\n",
       "    <tr>\n",
       "      <th>oldpeak</th>\n",
       "      <td>0.132230</td>\n",
       "      <td>0.097203</td>\n",
       "      <td>-0.182464</td>\n",
       "      <td>0.161440</td>\n",
       "      <td>0.048593</td>\n",
       "      <td>-0.092217</td>\n",
       "      <td>-0.075841</td>\n",
       "      <td>-0.344809</td>\n",
       "      <td>0.279166</td>\n",
       "      <td>1.000000</td>\n",
       "      <td>-0.608689</td>\n",
       "      <td>0.190294</td>\n",
       "      <td>0.220378</td>\n",
       "      <td>-0.444088</td>\n",
       "    </tr>\n",
       "    <tr>\n",
       "      <th>slope</th>\n",
       "      <td>-0.109214</td>\n",
       "      <td>-0.060134</td>\n",
       "      <td>0.155173</td>\n",
       "      <td>-0.130404</td>\n",
       "      <td>0.023602</td>\n",
       "      <td>-0.022832</td>\n",
       "      <td>0.072221</td>\n",
       "      <td>0.439127</td>\n",
       "      <td>-0.308743</td>\n",
       "      <td>-0.608689</td>\n",
       "      <td>1.000000</td>\n",
       "      <td>-0.077117</td>\n",
       "      <td>-0.171215</td>\n",
       "      <td>0.405668</td>\n",
       "    </tr>\n",
       "    <tr>\n",
       "      <th>ca</th>\n",
       "      <td>0.266278</td>\n",
       "      <td>0.120466</td>\n",
       "      <td>-0.180350</td>\n",
       "      <td>0.079756</td>\n",
       "      <td>0.037260</td>\n",
       "      <td>0.128097</td>\n",
       "      <td>-0.081040</td>\n",
       "      <td>-0.176630</td>\n",
       "      <td>0.101805</td>\n",
       "      <td>0.190294</td>\n",
       "      <td>-0.077117</td>\n",
       "      <td>1.000000</td>\n",
       "      <td>0.133635</td>\n",
       "      <td>-0.338780</td>\n",
       "    </tr>\n",
       "    <tr>\n",
       "      <th>thal</th>\n",
       "      <td>0.049211</td>\n",
       "      <td>0.215171</td>\n",
       "      <td>-0.164629</td>\n",
       "      <td>0.036511</td>\n",
       "      <td>-0.015071</td>\n",
       "      <td>0.026077</td>\n",
       "      <td>-0.042585</td>\n",
       "      <td>-0.148644</td>\n",
       "      <td>0.206719</td>\n",
       "      <td>0.220378</td>\n",
       "      <td>-0.171215</td>\n",
       "      <td>0.133635</td>\n",
       "      <td>1.000000</td>\n",
       "      <td>-0.383546</td>\n",
       "    </tr>\n",
       "    <tr>\n",
       "      <th>target</th>\n",
       "      <td>-0.196967</td>\n",
       "      <td>-0.249428</td>\n",
       "      <td>0.490819</td>\n",
       "      <td>-0.115553</td>\n",
       "      <td>-0.076160</td>\n",
       "      <td>-0.005276</td>\n",
       "      <td>0.095500</td>\n",
       "      <td>0.411448</td>\n",
       "      <td>-0.450321</td>\n",
       "      <td>-0.444088</td>\n",
       "      <td>0.405668</td>\n",
       "      <td>-0.338780</td>\n",
       "      <td>-0.383546</td>\n",
       "      <td>1.000000</td>\n",
       "    </tr>\n",
       "  </tbody>\n",
       "</table>\n",
       "</div>"
      ],
      "text/plain": [
       "               age       sex        cp  ...        ca      thal    target\n",
       "age       1.000000 -0.140074 -0.084230  ...  0.266278  0.049211 -0.196967\n",
       "sex      -0.140074  1.000000 -0.057939  ...  0.120466  0.215171 -0.249428\n",
       "cp       -0.084230 -0.057939  1.000000  ... -0.180350 -0.164629  0.490819\n",
       "trestbps  0.331658 -0.049192 -0.006780  ...  0.079756  0.036511 -0.115553\n",
       "chol      0.182401 -0.190650 -0.060037  ...  0.037260 -0.015071 -0.076160\n",
       "fbs       0.050823  0.081750  0.057205  ...  0.128097  0.026077 -0.005276\n",
       "restecg  -0.126079 -0.044643  0.035974  ... -0.081040 -0.042585  0.095500\n",
       "thalach  -0.378662  0.017224  0.243749  ... -0.176630 -0.148644  0.411448\n",
       "exang     0.114545  0.122773 -0.349369  ...  0.101805  0.206719 -0.450321\n",
       "oldpeak   0.132230  0.097203 -0.182464  ...  0.190294  0.220378 -0.444088\n",
       "slope    -0.109214 -0.060134  0.155173  ... -0.077117 -0.171215  0.405668\n",
       "ca        0.266278  0.120466 -0.180350  ...  1.000000  0.133635 -0.338780\n",
       "thal      0.049211  0.215171 -0.164629  ...  0.133635  1.000000 -0.383546\n",
       "target   -0.196967 -0.249428  0.490819  ... -0.338780 -0.383546  1.000000\n",
       "\n",
       "[14 rows x 14 columns]"
      ]
     },
     "execution_count": 268,
     "metadata": {
      "tags": []
     },
     "output_type": "execute_result"
    }
   ],
   "source": [
    "heart[heart.columns[:]].corr()"
   ]
  },
  {
   "cell_type": "markdown",
   "metadata": {
    "id": "jDGkl1UTMCF7"
   },
   "source": [
    "**CM1:** After exploring various subsets of features and looking at their coorelation the subset of features we have picked are: 'sex', 'thalach', 'exang', 'oldpeak' and 'ca'. 'target' is also included for setting it as a hue to get better idea about the features. We have chosen this subset of features because this subset comprises of only numerical, ordinal and binary features and we would get better understandings of relationships while looking at the pairsplot."
   ]
  },
  {
   "cell_type": "code",
   "execution_count": 269,
   "metadata": {
    "colab": {
     "base_uri": "https://localhost:8080/",
     "height": 202
    },
    "id": "JVhIEqsyoS1G",
    "outputId": "89832be1-4700-4daf-8c71-ed3c7ea72dc4"
   },
   "outputs": [
    {
     "data": {
      "text/html": [
       "<div>\n",
       "<style scoped>\n",
       "    .dataframe tbody tr th:only-of-type {\n",
       "        vertical-align: middle;\n",
       "    }\n",
       "\n",
       "    .dataframe tbody tr th {\n",
       "        vertical-align: top;\n",
       "    }\n",
       "\n",
       "    .dataframe thead th {\n",
       "        text-align: right;\n",
       "    }\n",
       "</style>\n",
       "<table border=\"1\" class=\"dataframe\">\n",
       "  <thead>\n",
       "    <tr style=\"text-align: right;\">\n",
       "      <th></th>\n",
       "      <th>sex</th>\n",
       "      <th>thalach</th>\n",
       "      <th>exang</th>\n",
       "      <th>oldpeak</th>\n",
       "      <th>ca</th>\n",
       "      <th>target</th>\n",
       "    </tr>\n",
       "  </thead>\n",
       "  <tbody>\n",
       "    <tr>\n",
       "      <th>65</th>\n",
       "      <td>1</td>\n",
       "      <td>144.917383</td>\n",
       "      <td>0</td>\n",
       "      <td>4.150481</td>\n",
       "      <td>0</td>\n",
       "      <td>1</td>\n",
       "    </tr>\n",
       "    <tr>\n",
       "      <th>172</th>\n",
       "      <td>1</td>\n",
       "      <td>165.940312</td>\n",
       "      <td>0</td>\n",
       "      <td>0.461065</td>\n",
       "      <td>0</td>\n",
       "      <td>0</td>\n",
       "    </tr>\n",
       "    <tr>\n",
       "      <th>188</th>\n",
       "      <td>1</td>\n",
       "      <td>107.974829</td>\n",
       "      <td>1</td>\n",
       "      <td>1.562676</td>\n",
       "      <td>3</td>\n",
       "      <td>0</td>\n",
       "    </tr>\n",
       "    <tr>\n",
       "      <th>134</th>\n",
       "      <td>0</td>\n",
       "      <td>142.917643</td>\n",
       "      <td>1</td>\n",
       "      <td>0.048828</td>\n",
       "      <td>0</td>\n",
       "      <td>0</td>\n",
       "    </tr>\n",
       "    <tr>\n",
       "      <th>114</th>\n",
       "      <td>1</td>\n",
       "      <td>129.735437</td>\n",
       "      <td>1</td>\n",
       "      <td>1.592099</td>\n",
       "      <td>0</td>\n",
       "      <td>0</td>\n",
       "    </tr>\n",
       "  </tbody>\n",
       "</table>\n",
       "</div>"
      ],
      "text/plain": [
       "     sex     thalach  exang   oldpeak  ca  target\n",
       "65     1  144.917383      0  4.150481   0       1\n",
       "172    1  165.940312      0  0.461065   0       0\n",
       "188    1  107.974829      1  1.562676   3       0\n",
       "134    0  142.917643      1  0.048828   0       0\n",
       "114    1  129.735437      1  1.592099   0       0"
      ]
     },
     "execution_count": 269,
     "metadata": {
      "tags": []
     },
     "output_type": "execute_result"
    }
   ],
   "source": [
    "subset=heart[['sex', 'thalach', 'exang', 'oldpeak', 'ca', 'target']]\n",
    "subset.sample(5)"
   ]
  },
  {
   "cell_type": "markdown",
   "metadata": {
    "id": "hUk5hhEPrFnO"
   },
   "source": [
    "# CM1 PairPlot"
   ]
  },
  {
   "cell_type": "code",
   "execution_count": 270,
   "metadata": {
    "colab": {
     "base_uri": "https://localhost:8080/",
     "height": 853
    },
    "id": "wFeuEd57pK1S",
    "outputId": "c68cfea1-80f0-4b12-9c23-6ad9bb0c443a"
   },
   "outputs": [
    {
     "data": {
      "text/plain": [
       "<seaborn.axisgrid.PairGrid at 0x7f2a71843e80>"
      ]
     },
     "execution_count": 270,
     "metadata": {
      "tags": []
     },
     "output_type": "execute_result"
    },
    {
     "data": {
      "image/png": "[encoded data removed]",
      "text/plain": [
       "<Figure size 929.844x900 with 30 Axes>"
      ]
     },
     "metadata": {
      "needs_background": "light",
      "tags": []
     },
     "output_type": "display_data"
    }
   ],
   "source": [
    "sns.pairplot(subset, hue='target')"
   ]
  },
  {
   "cell_type": "markdown",
   "metadata": {
    "id": "gxnM29sAUHlo"
   },
   "source": [
    "Looking at the pair-plot we can see that for 'ca' vs. 'sex' it could be assumed that mostly when 'ca' = 2&3 both sexes are less targeted whereas for 'ca' = 0 both sexes are more targeted. And when ca is 2 and 3 people are generally less targeted. With 'exang'= 0 more people are targeted than 'exang' = 1. With 'oldpeak' between -1 to 3 more people are targeted. Since we cannot get a clear idea of the dataset we decided on plotting the bar plot for understanding this dataset a bit more."
   ]
  },
  {
   "cell_type": "code",
   "execution_count": 271,
   "metadata": {
    "colab": {
     "base_uri": "https://localhost:8080/",
     "height": 395
    },
    "id": "D4dRQ5gMReNu",
    "outputId": "67272694-2933-4806-e6a2-494c04ba5c81"
   },
   "outputs": [
    {
     "data": {
      "image/png": "[encoded data removed]",
      "text/plain": [
       "<Figure size 389.844x360 with 1 Axes>"
      ]
     },
     "metadata": {
      "needs_background": "light",
      "tags": []
     },
     "output_type": "display_data"
    }
   ],
   "source": [
    "#Barplot of Age vs. Sex\n",
    "sns.catplot(kind = 'bar', data = heart, x = 'sex', y = 'age', hue = 'target')\n",
    "plt.title('Distribution of age vs sex with the target class')\n",
    "plt.show()"
   ]
  },
  {
   "cell_type": "markdown",
   "metadata": {
    "id": "ZXHouAr_Xk79"
   },
   "source": [
    "Looking at the above plot we can see that females who are suffering from the heart disease are older than male."
   ]
  },
  {
   "cell_type": "code",
   "execution_count": 272,
   "metadata": {
    "colab": {
     "base_uri": "https://localhost:8080/",
     "height": 395
    },
    "id": "6BaqcfSYS4L9",
    "outputId": "588103ef-e982-45d2-bd68-f861dc73b31d"
   },
   "outputs": [
    {
     "data": {
      "image/png": "[encoded data removed]",
      "text/plain": [
       "<Figure size 389.844x360 with 1 Axes>"
      ]
     },
     "metadata": {
      "needs_background": "light",
      "tags": []
     },
     "output_type": "display_data"
    }
   ],
   "source": [
    "sns.set_context(\"paper\", font_scale = 0.8, rc = {\"font.size\": 15,\"axes.titlesize\": 15,\"axes.labelsize\": 15})\n",
    "sns.catplot(kind = 'count', data =heart, x = 'age', hue = 'target', order = heart['age'].sort_values().unique())\n",
    "plt.title('Variation of Age for each target class')\n",
    "plt.show()"
   ]
  },
  {
   "cell_type": "markdown",
   "metadata": {
    "id": "XX7Kdt5yXJ9o"
   },
   "source": [
    "Looking at the above plot we can infer that most people who are suffering from the heart disease are of the age of 44 followed by 51 and 52."
   ]
  },
  {
   "cell_type": "markdown",
   "metadata": {
    "id": "D16PRB5trfXW"
   },
   "source": [
    "# CM2 "
   ]
  },
  {
   "cell_type": "markdown",
   "metadata": {
    "id": "JdwDW9-rmOgv"
   },
   "source": [
    "**CM2:** Correlation between the subset of features."
   ]
  },
  {
   "cell_type": "code",
   "execution_count": 273,
   "metadata": {
    "colab": {
     "base_uri": "https://localhost:8080/",
     "height": 233
    },
    "id": "0qqZxyAFmkVB",
    "outputId": "d25caa65-f832-4e1c-f2d1-cd0a6cdec956"
   },
   "outputs": [
    {
     "data": {
      "text/html": [
       "<div>\n",
       "<style scoped>\n",
       "    .dataframe tbody tr th:only-of-type {\n",
       "        vertical-align: middle;\n",
       "    }\n",
       "\n",
       "    .dataframe tbody tr th {\n",
       "        vertical-align: top;\n",
       "    }\n",
       "\n",
       "    .dataframe thead th {\n",
       "        text-align: right;\n",
       "    }\n",
       "</style>\n",
       "<table border=\"1\" class=\"dataframe\">\n",
       "  <thead>\n",
       "    <tr style=\"text-align: right;\">\n",
       "      <th></th>\n",
       "      <th>sex</th>\n",
       "      <th>thalach</th>\n",
       "      <th>exang</th>\n",
       "      <th>oldpeak</th>\n",
       "      <th>ca</th>\n",
       "      <th>target</th>\n",
       "    </tr>\n",
       "  </thead>\n",
       "  <tbody>\n",
       "    <tr>\n",
       "      <th>sex</th>\n",
       "      <td>1.000000</td>\n",
       "      <td>0.017224</td>\n",
       "      <td>0.122773</td>\n",
       "      <td>0.097203</td>\n",
       "      <td>0.120466</td>\n",
       "      <td>-0.249428</td>\n",
       "    </tr>\n",
       "    <tr>\n",
       "      <th>thalach</th>\n",
       "      <td>0.017224</td>\n",
       "      <td>1.000000</td>\n",
       "      <td>-0.357161</td>\n",
       "      <td>-0.344809</td>\n",
       "      <td>-0.176630</td>\n",
       "      <td>0.411448</td>\n",
       "    </tr>\n",
       "    <tr>\n",
       "      <th>exang</th>\n",
       "      <td>0.122773</td>\n",
       "      <td>-0.357161</td>\n",
       "      <td>1.000000</td>\n",
       "      <td>0.279166</td>\n",
       "      <td>0.101805</td>\n",
       "      <td>-0.450321</td>\n",
       "    </tr>\n",
       "    <tr>\n",
       "      <th>oldpeak</th>\n",
       "      <td>0.097203</td>\n",
       "      <td>-0.344809</td>\n",
       "      <td>0.279166</td>\n",
       "      <td>1.000000</td>\n",
       "      <td>0.190294</td>\n",
       "      <td>-0.444088</td>\n",
       "    </tr>\n",
       "    <tr>\n",
       "      <th>ca</th>\n",
       "      <td>0.120466</td>\n",
       "      <td>-0.176630</td>\n",
       "      <td>0.101805</td>\n",
       "      <td>0.190294</td>\n",
       "      <td>1.000000</td>\n",
       "      <td>-0.338780</td>\n",
       "    </tr>\n",
       "    <tr>\n",
       "      <th>target</th>\n",
       "      <td>-0.249428</td>\n",
       "      <td>0.411448</td>\n",
       "      <td>-0.450321</td>\n",
       "      <td>-0.444088</td>\n",
       "      <td>-0.338780</td>\n",
       "      <td>1.000000</td>\n",
       "    </tr>\n",
       "  </tbody>\n",
       "</table>\n",
       "</div>"
      ],
      "text/plain": [
       "              sex   thalach     exang   oldpeak        ca    target\n",
       "sex      1.000000  0.017224  0.122773  0.097203  0.120466 -0.249428\n",
       "thalach  0.017224  1.000000 -0.357161 -0.344809 -0.176630  0.411448\n",
       "exang    0.122773 -0.357161  1.000000  0.279166  0.101805 -0.450321\n",
       "oldpeak  0.097203 -0.344809  0.279166  1.000000  0.190294 -0.444088\n",
       "ca       0.120466 -0.176630  0.101805  0.190294  1.000000 -0.338780\n",
       "target  -0.249428  0.411448 -0.450321 -0.444088 -0.338780  1.000000"
      ]
     },
     "execution_count": 273,
     "metadata": {
      "tags": []
     },
     "output_type": "execute_result"
    }
   ],
   "source": [
    "subset[subset.columns[:]].corr()"
   ]
  },
  {
   "cell_type": "markdown",
   "metadata": {
    "id": "t29jERjbm9YA"
   },
   "source": [
    "Looking at the above correlation coefficient we can see that there is no strong correlation between the features and the target. None of the coefficients are equal to or exceed the -0.5 and +0.5.Therefore we can not find any significant positive or negative correlation between the features. Hence we do not observe any significant pattern from the pair plots itself."
   ]
  },
  {
   "cell_type": "markdown",
   "metadata": {
    "id": "mwD-b04irs90"
   },
   "source": [
    "# CM2: Mean, Variance, Skew, Kurtosis"
   ]
  },
  {
   "cell_type": "markdown",
   "metadata": {
    "id": "8FIk34KxmNU8"
   },
   "source": []
  },
  {
   "cell_type": "code",
   "execution_count": 274,
   "metadata": {
    "colab": {
     "base_uri": "https://localhost:8080/"
    },
    "id": "mNHnI_1gp8ON",
    "outputId": "43f47fb3-40ca-498b-c96a-f410cef875c2"
   },
   "outputs": [
    {
     "data": {
      "text/plain": [
       "sex          0.688679\n",
       "thalach    149.635752\n",
       "exang        0.344340\n",
       "oldpeak      1.106704\n",
       "ca           0.731132\n",
       "target       0.542453\n",
       "dtype: float64"
      ]
     },
     "execution_count": 274,
     "metadata": {
      "tags": []
     },
     "output_type": "execute_result"
    }
   ],
   "source": [
    "subset.mean()"
   ]
  },
  {
   "cell_type": "code",
   "execution_count": 275,
   "metadata": {
    "colab": {
     "base_uri": "https://localhost:8080/"
    },
    "id": "RtqpWKxxqCzQ",
    "outputId": "d2ffc219-fb45-4e33-8d54-27628dfc2645"
   },
   "outputs": [
    {
     "data": {
      "text/plain": [
       "sex          0.215416\n",
       "thalach    478.127629\n",
       "exang        0.226840\n",
       "oldpeak      1.488286\n",
       "ca           1.079026\n",
       "target       0.249374\n",
       "dtype: float64"
      ]
     },
     "execution_count": 275,
     "metadata": {
      "tags": []
     },
     "output_type": "execute_result"
    }
   ],
   "source": [
    "subset.var()"
   ]
  },
  {
   "cell_type": "markdown",
   "metadata": {
    "id": "ZPK2bGJfxP-d"
   },
   "source": [
    "The variance of the subset of features are generally low except 'thalach'. Low variance indicates that the feature has narrower range of observations and they lie nearby the mean of the feature. Whereas higher variance indicates that the feature has wider range of observations and they lie further from the mean value."
   ]
  },
  {
   "cell_type": "code",
   "execution_count": 276,
   "metadata": {
    "colab": {
     "base_uri": "https://localhost:8080/"
    },
    "id": "hjL2QLDhqJrY",
    "outputId": "f8efe7e3-c927-4394-a85c-53f4bbf1610a"
   },
   "outputs": [
    {
     "data": {
      "text/plain": [
       "sex       -0.820789\n",
       "thalach   -0.396114\n",
       "exang      0.659880\n",
       "oldpeak    1.274676\n",
       "ca         1.377751\n",
       "target    -0.171644\n",
       "dtype: float64"
      ]
     },
     "execution_count": 276,
     "metadata": {
      "tags": []
     },
     "output_type": "execute_result"
    }
   ],
   "source": [
    "subset.skew()"
   ]
  },
  {
   "cell_type": "markdown",
   "metadata": {
    "id": "yuxPdn4VIGL5"
   },
   "source": [
    "The features 'sex', 'thalach' and 'target' are negatively skewed meaning the tail is to the left. Whereas 'exang', 'oldpeak' and 'ca' are positively skewed meaning tail of the distribution is to the right and as values of 'oldpeak' and 'ca' are more than 1 they are highly skewed."
   ]
  },
  {
   "cell_type": "code",
   "execution_count": 277,
   "metadata": {
    "colab": {
     "base_uri": "https://localhost:8080/"
    },
    "id": "baum5Aj2qOKt",
    "outputId": "c3b3938a-c849-4a1a-f2f8-514f0a40d519"
   },
   "outputs": [
    {
     "data": {
      "text/plain": [
       "sex       -1.339028\n",
       "thalach   -0.161165\n",
       "exang     -1.579550\n",
       "oldpeak    1.646459\n",
       "ca         1.020304\n",
       "target    -1.989397\n",
       "dtype: float64"
      ]
     },
     "execution_count": 277,
     "metadata": {
      "tags": []
     },
     "output_type": "execute_result"
    }
   ],
   "source": [
    "subset.kurt()"
   ]
  },
  {
   "cell_type": "markdown",
   "metadata": {
    "id": "E_gLJxrHJxeo"
   },
   "source": [
    "The features 'sex', 'thalach', 'exang' and 'target' shows negative kurtosis i.e. they are Platykurtic. The features 'oldpeak' and 'ca' shows positive kurtosis hence they are Leptokurtic and they are more peaked compared to other features of the subset."
   ]
  },
  {
   "cell_type": "markdown",
   "metadata": {
    "id": "BLLvI6M09QoM"
   },
   "source": [
    "#CM4 Histogram"
   ]
  },
  {
   "cell_type": "code",
   "execution_count": 278,
   "metadata": {
    "id": "ORPlyWTtQRFn"
   },
   "outputs": [],
   "source": [
    "bins = ['sex', 'fbs', 'exang']\n",
    "cats = ['cp', 'restecg', 'slope', 'thal']\n",
    "ords = ['ca']\n",
    "nums = ['age', 'oldpeak', 'trestbps', 'chol', 'thalach']\n",
    "target = ['target']"
   ]
  },
  {
   "cell_type": "markdown",
   "metadata": {
    "id": "R_hMz4wuTu3T"
   },
   "source": [
    "**Histograms of Numerical features**"
   ]
  },
  {
   "cell_type": "code",
   "execution_count": 279,
   "metadata": {
    "colab": {
     "base_uri": "https://localhost:8080/",
     "height": 233
    },
    "id": "toWG9lxW59hx",
    "outputId": "89bc8c00-157f-439e-9e2a-6e01cd2e6616"
   },
   "outputs": [
    {
     "data": {
      "text/plain": [
       "<seaborn.axisgrid.FacetGrid at 0x7f2a72813a90>"
      ]
     },
     "execution_count": 279,
     "metadata": {
      "tags": []
     },
     "output_type": "execute_result"
    },
    {
     "data": {
      "image/png": "[encoded data removed]",
      "text/plain": [
       "<Figure size 432x216 with 2 Axes>"
      ]
     },
     "metadata": {
      "needs_background": "light",
      "tags": []
     },
     "output_type": "display_data"
    }
   ],
   "source": [
    "#Histogram of Age\n",
    "hist1 = sns.FacetGrid(heart, col=\"target\")\n",
    "hist1.map(sns.histplot, \"age\")"
   ]
  },
  {
   "cell_type": "code",
   "execution_count": 280,
   "metadata": {
    "colab": {
     "base_uri": "https://localhost:8080/",
     "height": 233
    },
    "id": "i0TCYhdJ9an1",
    "outputId": "1bed8a19-ced1-4111-d3b6-45d3d1f8f1d3"
   },
   "outputs": [
    {
     "data": {
      "text/plain": [
       "<seaborn.axisgrid.FacetGrid at 0x7f2a70df6f28>"
      ]
     },
     "execution_count": 280,
     "metadata": {
      "tags": []
     },
     "output_type": "execute_result"
    },
    {
     "data": {
      "image/png": "[encoded data removed]",
      "text/plain": [
       "<Figure size 432x216 with 2 Axes>"
      ]
     },
     "metadata": {
      "needs_background": "light",
      "tags": []
     },
     "output_type": "display_data"
    }
   ],
   "source": [
    "#Histogram of oldpeak\n",
    "hist2 = sns.FacetGrid(heart, col=\"target\")\n",
    "hist2.map(sns.histplot, \"oldpeak\")"
   ]
  },
  {
   "cell_type": "code",
   "execution_count": 281,
   "metadata": {
    "colab": {
     "base_uri": "https://localhost:8080/",
     "height": 233
    },
    "id": "--Dee_Db-Lrh",
    "outputId": "d8bef79d-e634-4117-d2fa-dcad5fcaf634"
   },
   "outputs": [
    {
     "data": {
      "text/plain": [
       "<seaborn.axisgrid.FacetGrid at 0x7f2a70db6080>"
      ]
     },
     "execution_count": 281,
     "metadata": {
      "tags": []
     },
     "output_type": "execute_result"
    },
    {
     "data": {
      "image/png": "[encoded data removed]",
      "text/plain": [
       "<Figure size 432x216 with 2 Axes>"
      ]
     },
     "metadata": {
      "needs_background": "light",
      "tags": []
     },
     "output_type": "display_data"
    }
   ],
   "source": [
    "#Histogram of trestbps\n",
    "hist3 = sns.FacetGrid(heart, col=\"target\")\n",
    "hist3.map(sns.histplot, \"trestbps\")"
   ]
  },
  {
   "cell_type": "code",
   "execution_count": 282,
   "metadata": {
    "colab": {
     "base_uri": "https://localhost:8080/",
     "height": 233
    },
    "id": "CoQhBsQ8-rjZ",
    "outputId": "efd3b7c4-98ee-4db3-b473-82fb414b7c1a"
   },
   "outputs": [
    {
     "data": {
      "text/plain": [
       "<seaborn.axisgrid.FacetGrid at 0x7f2a70c6c2b0>"
      ]
     },
     "execution_count": 282,
     "metadata": {
      "tags": []
     },
     "output_type": "execute_result"
    },
    {
     "data": {
      "image/png": "[encoded data removed]",
      "text/plain": [
       "<Figure size 432x216 with 2 Axes>"
      ]
     },
     "metadata": {
      "needs_background": "light",
      "tags": []
     },
     "output_type": "display_data"
    }
   ],
   "source": [
    "#Histogram of chol\n",
    "hist4 = sns.FacetGrid(heart, col=\"target\")\n",
    "hist4.map(sns.histplot, \"chol\")"
   ]
  },
  {
   "cell_type": "code",
   "execution_count": 283,
   "metadata": {
    "colab": {
     "base_uri": "https://localhost:8080/",
     "height": 233
    },
    "id": "_7mFcRSN_Ndd",
    "outputId": "9d26cdd4-2461-4b15-e6d6-cda4b4c8b036"
   },
   "outputs": [
    {
     "data": {
      "text/plain": [
       "<seaborn.axisgrid.FacetGrid at 0x7f2a70bb74e0>"
      ]
     },
     "execution_count": 283,
     "metadata": {
      "tags": []
     },
     "output_type": "execute_result"
    },
    {
     "data": {
      "image/png": "[encoded data removed]",
      "text/plain": [
       "<Figure size 432x216 with 2 Axes>"
      ]
     },
     "metadata": {
      "needs_background": "light",
      "tags": []
     },
     "output_type": "display_data"
    }
   ],
   "source": [
    "#Histogram of thalach\n",
    "hist5 = sns.FacetGrid(heart, col=\"target\")\n",
    "hist5.map(sns.histplot, \"thalach\")"
   ]
  },
  {
   "cell_type": "markdown",
   "metadata": {
    "id": "K1IP_BTAV4kZ"
   },
   "source": [
    "**Histograms of binary features**"
   ]
  },
  {
   "cell_type": "code",
   "execution_count": 284,
   "metadata": {
    "colab": {
     "base_uri": "https://localhost:8080/",
     "height": 233
    },
    "id": "J_0nvxTXT9ED",
    "outputId": "70faa1c2-5f42-49a9-f5dd-43bad35251a1"
   },
   "outputs": [
    {
     "data": {
      "text/plain": [
       "<seaborn.axisgrid.FacetGrid at 0x7f2a70cbc518>"
      ]
     },
     "execution_count": 284,
     "metadata": {
      "tags": []
     },
     "output_type": "execute_result"
    },
    {
     "data": {
      "image/png": "[encoded data removed]",
      "text/plain": [
       "<Figure size 432x216 with 2 Axes>"
      ]
     },
     "metadata": {
      "needs_background": "light",
      "tags": []
     },
     "output_type": "display_data"
    }
   ],
   "source": [
    "#Histogram of sex\n",
    "hist6 = sns.FacetGrid(heart, col=\"target\")\n",
    "hist6.map(sns.histplot, \"sex\")"
   ]
  },
  {
   "cell_type": "code",
   "execution_count": 285,
   "metadata": {
    "colab": {
     "base_uri": "https://localhost:8080/",
     "height": 233
    },
    "id": "O0X3MTxAUT3E",
    "outputId": "972e0673-1993-4007-8405-1d777313d49c"
   },
   "outputs": [
    {
     "data": {
      "text/plain": [
       "<seaborn.axisgrid.FacetGrid at 0x7f2a70ddcef0>"
      ]
     },
     "execution_count": 285,
     "metadata": {
      "tags": []
     },
     "output_type": "execute_result"
    },
    {
     "data": {
      "image/png": "[encoded data removed]",
      "text/plain": [
       "<Figure size 432x216 with 2 Axes>"
      ]
     },
     "metadata": {
      "needs_background": "light",
      "tags": []
     },
     "output_type": "display_data"
    }
   ],
   "source": [
    "#Histogram of fbs\n",
    "hist7 = sns.FacetGrid(heart, col=\"target\")\n",
    "hist7.map(sns.histplot, \"fbs\")"
   ]
  },
  {
   "cell_type": "code",
   "execution_count": 286,
   "metadata": {
    "colab": {
     "base_uri": "https://localhost:8080/",
     "height": 233
    },
    "id": "C3ZT1eEpUcW3",
    "outputId": "5a4cef4e-ed77-4ca9-bb9b-2191c37de702"
   },
   "outputs": [
    {
     "data": {
      "text/plain": [
       "<seaborn.axisgrid.FacetGrid at 0x7f2a708e15c0>"
      ]
     },
     "execution_count": 286,
     "metadata": {
      "tags": []
     },
     "output_type": "execute_result"
    },
    {
     "data": {
      "image/png": "[encoded data removed]",
      "text/plain": [
       "<Figure size 432x216 with 2 Axes>"
      ]
     },
     "metadata": {
      "needs_background": "light",
      "tags": []
     },
     "output_type": "display_data"
    }
   ],
   "source": [
    "#Histogram of exang\n",
    "hist8 = sns.FacetGrid(heart, col=\"target\")\n",
    "hist8.map(sns.histplot, \"exang\")"
   ]
  },
  {
   "cell_type": "markdown",
   "metadata": {
    "id": "uKrZ2j3hWAuP"
   },
   "source": [
    "**Histograms of Categorical Features**"
   ]
  },
  {
   "cell_type": "code",
   "execution_count": 287,
   "metadata": {
    "colab": {
     "base_uri": "https://localhost:8080/",
     "height": 233
    },
    "id": "W-t2cUbWUl7N",
    "outputId": "e8fd03f2-a091-4a8f-ae77-5f4731712451"
   },
   "outputs": [
    {
     "data": {
      "text/plain": [
       "<seaborn.axisgrid.FacetGrid at 0x7f2a707a7898>"
      ]
     },
     "execution_count": 287,
     "metadata": {
      "tags": []
     },
     "output_type": "execute_result"
    },
    {
     "data": {
      "image/png": "[encoded data removed]",
      "text/plain": [
       "<Figure size 432x216 with 2 Axes>"
      ]
     },
     "metadata": {
      "needs_background": "light",
      "tags": []
     },
     "output_type": "display_data"
    }
   ],
   "source": [
    "#Histogram of cp\n",
    "hist9 = sns.FacetGrid(heart, col=\"target\")\n",
    "hist9.map(sns.histplot, \"cp\")"
   ]
  },
  {
   "cell_type": "code",
   "execution_count": 288,
   "metadata": {
    "colab": {
     "base_uri": "https://localhost:8080/",
     "height": 233
    },
    "id": "bzSM_PUrUyJP",
    "outputId": "fc83a038-f4df-40ad-acc3-31da13b22e11"
   },
   "outputs": [
    {
     "data": {
      "text/plain": [
       "<seaborn.axisgrid.FacetGrid at 0x7f2a70949c88>"
      ]
     },
     "execution_count": 288,
     "metadata": {
      "tags": []
     },
     "output_type": "execute_result"
    },
    {
     "data": {
      "image/png": "[encoded data removed]",
      "text/plain": [
       "<Figure size 432x216 with 2 Axes>"
      ]
     },
     "metadata": {
      "needs_background": "light",
      "tags": []
     },
     "output_type": "display_data"
    }
   ],
   "source": [
    "#Histogram of restecg\n",
    "hist10 = sns.FacetGrid(heart, col=\"target\")\n",
    "hist10.map(sns.histplot, \"restecg\")"
   ]
  },
  {
   "cell_type": "code",
   "execution_count": 289,
   "metadata": {
    "colab": {
     "base_uri": "https://localhost:8080/",
     "height": 233
    },
    "id": "Txw-AtRrVDup",
    "outputId": "dc50c981-cce5-4448-d58b-8ec1a5ed4a66"
   },
   "outputs": [
    {
     "data": {
      "text/plain": [
       "<seaborn.axisgrid.FacetGrid at 0x7f2a7071d518>"
      ]
     },
     "execution_count": 289,
     "metadata": {
      "tags": []
     },
     "output_type": "execute_result"
    },
    {
     "data": {
      "image/png": "[encoded data removed]",
      "text/plain": [
       "<Figure size 432x216 with 2 Axes>"
      ]
     },
     "metadata": {
      "needs_background": "light",
      "tags": []
     },
     "output_type": "display_data"
    }
   ],
   "source": [
    "#Histogram of slope\n",
    "hist11 = sns.FacetGrid(heart, col=\"target\")\n",
    "hist11.map(sns.histplot, \"slope\")"
   ]
  },
  {
   "cell_type": "code",
   "execution_count": 290,
   "metadata": {
    "colab": {
     "base_uri": "https://localhost:8080/",
     "height": 233
    },
    "id": "pexkEj51VTir",
    "outputId": "2b03d5f1-d001-4ef2-f7c7-775a00003dd7"
   },
   "outputs": [
    {
     "data": {
      "text/plain": [
       "<seaborn.axisgrid.FacetGrid at 0x7f2a704ddb00>"
      ]
     },
     "execution_count": 290,
     "metadata": {
      "tags": []
     },
     "output_type": "execute_result"
    },
    {
     "data": {
      "image/png": "[encoded data removed]",
      "text/plain": [
       "<Figure size 432x216 with 2 Axes>"
      ]
     },
     "metadata": {
      "needs_background": "light",
      "tags": []
     },
     "output_type": "display_data"
    }
   ],
   "source": [
    "#Histogram of thal\n",
    "hist12 = sns.FacetGrid(heart, col=\"target\")\n",
    "hist12.map(sns.histplot, \"thal\")"
   ]
  },
  {
   "cell_type": "markdown",
   "metadata": {
    "id": "ryA9DowUWHbE"
   },
   "source": [
    "**Histograms of Ordinal Feature**"
   ]
  },
  {
   "cell_type": "code",
   "execution_count": 291,
   "metadata": {
    "colab": {
     "base_uri": "https://localhost:8080/",
     "height": 233
    },
    "id": "oEEKg8q6VabD",
    "outputId": "1b382ea7-f938-47b3-cec9-2723c522e72d"
   },
   "outputs": [
    {
     "data": {
      "text/plain": [
       "<seaborn.axisgrid.FacetGrid at 0x7f2a70506860>"
      ]
     },
     "execution_count": 291,
     "metadata": {
      "tags": []
     },
     "output_type": "execute_result"
    },
    {
     "data": {
      "image/png": "[encoded data removed]",
      "text/plain": [
       "<Figure size 432x216 with 2 Axes>"
      ]
     },
     "metadata": {
      "needs_background": "light",
      "tags": []
     },
     "output_type": "display_data"
    }
   ],
   "source": [
    "#Histogram of ca\n",
    "hist13 = sns.FacetGrid(heart, col=\"target\")\n",
    "hist13.map(sns.histplot, \"ca\")"
   ]
  },
  {
   "cell_type": "markdown",
   "metadata": {
    "id": "ctumy7Dczmbl"
   },
   "source": [
    "#CM3 Outliers"
   ]
  },
  {
   "cell_type": "markdown",
   "metadata": {
    "id": "NoOO5jnSqM2N"
   },
   "source": [
    "For looking at the outliers lets look at the box plot of various features of our subset."
   ]
  },
  {
   "cell_type": "code",
   "execution_count": 292,
   "metadata": {
    "colab": {
     "base_uri": "https://localhost:8080/",
     "height": 299
    },
    "id": "kTq6U30_Odv1",
    "outputId": "06479926-0f47-4960-c133-cf03f6d80381"
   },
   "outputs": [
    {
     "data": {
      "text/plain": [
       "<matplotlib.axes._subplots.AxesSubplot at 0x7f2a703e64a8>"
      ]
     },
     "execution_count": 292,
     "metadata": {
      "tags": []
     },
     "output_type": "execute_result"
    },
    {
     "data": {
      "image/png": "[encoded data removed]",
      "text/plain": [
       "<Figure size 432x288 with 1 Axes>"
      ]
     },
     "metadata": {
      "needs_background": "light",
      "tags": []
     },
     "output_type": "display_data"
    }
   ],
   "source": [
    "\n",
    "sns.boxplot(x=heart['oldpeak'])\n"
   ]
  },
  {
   "cell_type": "code",
   "execution_count": 293,
   "metadata": {
    "colab": {
     "base_uri": "https://localhost:8080/",
     "height": 299
    },
    "id": "CffJVdUmpr79",
    "outputId": "7df33db1-525b-4bce-cf5d-9294185ba342"
   },
   "outputs": [
    {
     "data": {
      "text/plain": [
       "<matplotlib.axes._subplots.AxesSubplot at 0x7f2a7039e208>"
      ]
     },
     "execution_count": 293,
     "metadata": {
      "tags": []
     },
     "output_type": "execute_result"
    },
    {
     "data": {
      "image/png": "[encoded data removed]",
      "text/plain": [
       "<Figure size 432x288 with 1 Axes>"
      ]
     },
     "metadata": {
      "needs_background": "light",
      "tags": []
     },
     "output_type": "display_data"
    }
   ],
   "source": [
    "sns.boxplot(x=heart['ca'])"
   ]
  },
  {
   "cell_type": "code",
   "execution_count": 294,
   "metadata": {
    "colab": {
     "base_uri": "https://localhost:8080/",
     "height": 299
    },
    "id": "WlX1QbGOpsOH",
    "outputId": "f8142190-7a13-4d71-baff-1dc424b4a94f"
   },
   "outputs": [
    {
     "data": {
      "text/plain": [
       "<matplotlib.axes._subplots.AxesSubplot at 0x7f2a70449f60>"
      ]
     },
     "execution_count": 294,
     "metadata": {
      "tags": []
     },
     "output_type": "execute_result"
    },
    {
     "data": {
      "image/png": "[encoded data removed]",
      "text/plain": [
       "<Figure size 432x288 with 1 Axes>"
      ]
     },
     "metadata": {
      "needs_background": "light",
      "tags": []
     },
     "output_type": "display_data"
    }
   ],
   "source": [
    "sns.boxplot(x=heart['thalach'])"
   ]
  },
  {
   "cell_type": "markdown",
   "metadata": {
    "id": "btj7BVBkqWVS"
   },
   "source": [
    "As we can see from the above boxplots there aren't that many outliers compared to the number of observations and can be ignored for the course of this analysis"
   ]
  },
  {
   "cell_type": "markdown",
   "metadata": {
    "id": "8y990beXANgo"
   },
   "source": [
    "# KNN\n"
   ]
  },
  {
   "cell_type": "markdown",
   "metadata": {
    "id": "7Bh42PWtMsYX"
   },
   "source": [
    "For performing the classification of data using KNN classifier, rather than picking the whole dataset we are going to select the following features which shows relatablly high coefficient correlation with the 'target' feature. It will help us get more accurate classifier."
   ]
  },
  {
   "cell_type": "code",
   "execution_count": 295,
   "metadata": {
    "id": "RgDaB64ZIlCR"
   },
   "outputs": [],
   "source": [
    "df1 = heart[['cp', 'thalach', 'exang', 'oldpeak', 'slope', 'ca', 'thal', 'target']]\n"
   ]
  },
  {
   "cell_type": "code",
   "execution_count": 296,
   "metadata": {
    "id": "pGK5lH1H9jri"
   },
   "outputs": [],
   "source": [
    "#Dividing the df1 dataset into x and y \n",
    "x = df1.iloc[:, 0:-1].values\n",
    "y = df1.iloc[:, -1].values"
   ]
  },
  {
   "cell_type": "code",
   "execution_count": 297,
   "metadata": {
    "id": "jIHhtLza9uJ0"
   },
   "outputs": [],
   "source": [
    "#Dividing x and y in to train, validation and test sets\n",
    "x_temp, x_test, y_temp, y_test = train_test_split(x, y, test_size = 0.2, random_state = 275)"
   ]
  },
  {
   "cell_type": "code",
   "execution_count": 298,
   "metadata": {
    "id": "ENV8-_jWMffb"
   },
   "outputs": [],
   "source": [
    "x_train, x_val, y_train, y_val = train_test_split(x_temp, y_temp, test_size = 0.2, random_state = 275)"
   ]
  },
  {
   "cell_type": "markdown",
   "metadata": {
    "id": "r5iajdASOyNK"
   },
   "source": [
    "# CM6 The best K"
   ]
  },
  {
   "cell_type": "code",
   "execution_count": 299,
   "metadata": {
    "colab": {
     "base_uri": "https://localhost:8080/",
     "height": 1000
    },
    "id": "mdVjQCdS3pjl",
    "outputId": "5d8a29d5-53c2-4d96-a09f-a6dd27743481"
   },
   "outputs": [
    {
     "name": "stderr",
     "output_type": "stream",
     "text": [
      "/usr/local/lib/python3.6/dist-packages/ipykernel_launcher.py:10: RuntimeWarning: More than 20 figures have been opened. Figures created through the pyplot interface (`matplotlib.pyplot.figure`) are retained until explicitly closed and may consume too much memory. (To control this warning, see the rcParam `figure.max_open_warning`).\n",
      "  # Remove the CWD from sys.path while we load stuff.\n",
      "/usr/local/lib/python3.6/dist-packages/ipykernel_launcher.py:10: RuntimeWarning: More than 20 figures have been opened. Figures created through the pyplot interface (`matplotlib.pyplot.figure`) are retained until explicitly closed and may consume too much memory. (To control this warning, see the rcParam `figure.max_open_warning`).\n",
      "  # Remove the CWD from sys.path while we load stuff.\n",
      "/usr/local/lib/python3.6/dist-packages/ipykernel_launcher.py:10: RuntimeWarning: More than 20 figures have been opened. Figures created through the pyplot interface (`matplotlib.pyplot.figure`) are retained until explicitly closed and may consume too much memory. (To control this warning, see the rcParam `figure.max_open_warning`).\n",
      "  # Remove the CWD from sys.path while we load stuff.\n",
      "/usr/local/lib/python3.6/dist-packages/ipykernel_launcher.py:10: RuntimeWarning: More than 20 figures have been opened. Figures created through the pyplot interface (`matplotlib.pyplot.figure`) are retained until explicitly closed and may consume too much memory. (To control this warning, see the rcParam `figure.max_open_warning`).\n",
      "  # Remove the CWD from sys.path while we load stuff.\n",
      "/usr/local/lib/python3.6/dist-packages/ipykernel_launcher.py:10: RuntimeWarning: More than 20 figures have been opened. Figures created through the pyplot interface (`matplotlib.pyplot.figure`) are retained until explicitly closed and may consume too much memory. (To control this warning, see the rcParam `figure.max_open_warning`).\n",
      "  # Remove the CWD from sys.path while we load stuff.\n",
      "/usr/local/lib/python3.6/dist-packages/ipykernel_launcher.py:10: RuntimeWarning: More than 20 figures have been opened. Figures created through the pyplot interface (`matplotlib.pyplot.figure`) are retained until explicitly closed and may consume too much memory. (To control this warning, see the rcParam `figure.max_open_warning`).\n",
      "  # Remove the CWD from sys.path while we load stuff.\n",
      "/usr/local/lib/python3.6/dist-packages/ipykernel_launcher.py:10: RuntimeWarning: More than 20 figures have been opened. Figures created through the pyplot interface (`matplotlib.pyplot.figure`) are retained until explicitly closed and may consume too much memory. (To control this warning, see the rcParam `figure.max_open_warning`).\n",
      "  # Remove the CWD from sys.path while we load stuff.\n",
      "/usr/local/lib/python3.6/dist-packages/ipykernel_launcher.py:10: RuntimeWarning: More than 20 figures have been opened. Figures created through the pyplot interface (`matplotlib.pyplot.figure`) are retained until explicitly closed and may consume too much memory. (To control this warning, see the rcParam `figure.max_open_warning`).\n",
      "  # Remove the CWD from sys.path while we load stuff.\n",
      "/usr/local/lib/python3.6/dist-packages/ipykernel_launcher.py:10: RuntimeWarning: More than 20 figures have been opened. Figures created through the pyplot interface (`matplotlib.pyplot.figure`) are retained until explicitly closed and may consume too much memory. (To control this warning, see the rcParam `figure.max_open_warning`).\n",
      "  # Remove the CWD from sys.path while we load stuff.\n",
      "/usr/local/lib/python3.6/dist-packages/ipykernel_launcher.py:10: RuntimeWarning: More than 20 figures have been opened. Figures created through the pyplot interface (`matplotlib.pyplot.figure`) are retained until explicitly closed and may consume too much memory. (To control this warning, see the rcParam `figure.max_open_warning`).\n",
      "  # Remove the CWD from sys.path while we load stuff.\n",
      "/usr/local/lib/python3.6/dist-packages/ipykernel_launcher.py:10: RuntimeWarning: More than 20 figures have been opened. Figures created through the pyplot interface (`matplotlib.pyplot.figure`) are retained until explicitly closed and may consume too much memory. (To control this warning, see the rcParam `figure.max_open_warning`).\n",
      "  # Remove the CWD from sys.path while we load stuff.\n",
      "/usr/local/lib/python3.6/dist-packages/ipykernel_launcher.py:10: RuntimeWarning: More than 20 figures have been opened. Figures created through the pyplot interface (`matplotlib.pyplot.figure`) are retained until explicitly closed and may consume too much memory. (To control this warning, see the rcParam `figure.max_open_warning`).\n",
      "  # Remove the CWD from sys.path while we load stuff.\n",
      "/usr/local/lib/python3.6/dist-packages/ipykernel_launcher.py:10: RuntimeWarning: More than 20 figures have been opened. Figures created through the pyplot interface (`matplotlib.pyplot.figure`) are retained until explicitly closed and may consume too much memory. (To control this warning, see the rcParam `figure.max_open_warning`).\n",
      "  # Remove the CWD from sys.path while we load stuff.\n",
      "/usr/local/lib/python3.6/dist-packages/ipykernel_launcher.py:10: RuntimeWarning: More than 20 figures have been opened. Figures created through the pyplot interface (`matplotlib.pyplot.figure`) are retained until explicitly closed and may consume too much memory. (To control this warning, see the rcParam `figure.max_open_warning`).\n",
      "  # Remove the CWD from sys.path while we load stuff.\n"
     ]
    },
    {
     "data": {
      "text/plain": [
       "Text(0, 0.5, 'Mean Error')"
      ]
     },
     "execution_count": 299,
     "metadata": {
      "tags": []
     },
     "output_type": "execute_result"
    },
    {
     "data": {
      "text/plain": [
       "<Figure size 864x432 with 0 Axes>"
      ]
     },
     "metadata": {
      "tags": []
     },
     "output_type": "display_data"
    },
    {
     "data": {
      "text/plain": [
       "<Figure size 864x432 with 0 Axes>"
      ]
     },
     "metadata": {
      "tags": []
     },
     "output_type": "display_data"
    },
    {
     "data": {
      "text/plain": [
       "<Figure size 864x432 with 0 Axes>"
      ]
     },
     "metadata": {
      "tags": []
     },
     "output_type": "display_data"
    },
    {
     "data": {
      "text/plain": [
       "<Figure size 864x432 with 0 Axes>"
      ]
     },
     "metadata": {
      "tags": []
     },
     "output_type": "display_data"
    },
    {
     "data": {
      "text/plain": [
       "<Figure size 864x432 with 0 Axes>"
      ]
     },
     "metadata": {
      "tags": []
     },
     "output_type": "display_data"
    },
    {
     "data": {
      "text/plain": [
       "<Figure size 864x432 with 0 Axes>"
      ]
     },
     "metadata": {
      "tags": []
     },
     "output_type": "display_data"
    },
    {
     "data": {
      "text/plain": [
       "<Figure size 864x432 with 0 Axes>"
      ]
     },
     "metadata": {
      "tags": []
     },
     "output_type": "display_data"
    },
    {
     "data": {
      "text/plain": [
       "<Figure size 864x432 with 0 Axes>"
      ]
     },
     "metadata": {
      "tags": []
     },
     "output_type": "display_data"
    },
    {
     "data": {
      "text/plain": [
       "<Figure size 864x432 with 0 Axes>"
      ]
     },
     "metadata": {
      "tags": []
     },
     "output_type": "display_data"
    },
    {
     "data": {
      "text/plain": [
       "<Figure size 864x432 with 0 Axes>"
      ]
     },
     "metadata": {
      "tags": []
     },
     "output_type": "display_data"
    },
    {
     "data": {
      "text/plain": [
       "<Figure size 864x432 with 0 Axes>"
      ]
     },
     "metadata": {
      "tags": []
     },
     "output_type": "display_data"
    },
    {
     "data": {
      "text/plain": [
       "<Figure size 864x432 with 0 Axes>"
      ]
     },
     "metadata": {
      "tags": []
     },
     "output_type": "display_data"
    },
    {
     "data": {
      "text/plain": [
       "<Figure size 864x432 with 0 Axes>"
      ]
     },
     "metadata": {
      "tags": []
     },
     "output_type": "display_data"
    },
    {
     "data": {
      "text/plain": [
       "<Figure size 864x432 with 0 Axes>"
      ]
     },
     "metadata": {
      "tags": []
     },
     "output_type": "display_data"
    },
    {
     "data": {
      "text/plain": [
       "<Figure size 864x432 with 0 Axes>"
      ]
     },
     "metadata": {
      "tags": []
     },
     "output_type": "display_data"
    },
    {
     "data": {
      "text/plain": [
       "<Figure size 864x432 with 0 Axes>"
      ]
     },
     "metadata": {
      "tags": []
     },
     "output_type": "display_data"
    },
    {
     "data": {
      "text/plain": [
       "<Figure size 864x432 with 0 Axes>"
      ]
     },
     "metadata": {
      "tags": []
     },
     "output_type": "display_data"
    },
    {
     "data": {
      "text/plain": [
       "<Figure size 864x432 with 0 Axes>"
      ]
     },
     "metadata": {
      "tags": []
     },
     "output_type": "display_data"
    },
    {
     "data": {
      "text/plain": [
       "<Figure size 864x432 with 0 Axes>"
      ]
     },
     "metadata": {
      "tags": []
     },
     "output_type": "display_data"
    },
    {
     "data": {
      "text/plain": [
       "<Figure size 864x432 with 0 Axes>"
      ]
     },
     "metadata": {
      "tags": []
     },
     "output_type": "display_data"
    },
    {
     "data": {
      "text/plain": [
       "<Figure size 864x432 with 0 Axes>"
      ]
     },
     "metadata": {
      "tags": []
     },
     "output_type": "display_data"
    },
    {
     "data": {
      "text/plain": [
       "<Figure size 864x432 with 0 Axes>"
      ]
     },
     "metadata": {
      "tags": []
     },
     "output_type": "display_data"
    },
    {
     "data": {
      "text/plain": [
       "<Figure size 864x432 with 0 Axes>"
      ]
     },
     "metadata": {
      "tags": []
     },
     "output_type": "display_data"
    },
    {
     "data": {
      "text/plain": [
       "<Figure size 864x432 with 0 Axes>"
      ]
     },
     "metadata": {
      "tags": []
     },
     "output_type": "display_data"
    },
    {
     "data": {
      "text/plain": [
       "<Figure size 864x432 with 0 Axes>"
      ]
     },
     "metadata": {
      "tags": []
     },
     "output_type": "display_data"
    },
    {
     "data": {
      "text/plain": [
       "<Figure size 864x432 with 0 Axes>"
      ]
     },
     "metadata": {
      "tags": []
     },
     "output_type": "display_data"
    },
    {
     "data": {
      "text/plain": [
       "<Figure size 864x432 with 0 Axes>"
      ]
     },
     "metadata": {
      "tags": []
     },
     "output_type": "display_data"
    },
    {
     "data": {
      "text/plain": [
       "<Figure size 864x432 with 0 Axes>"
      ]
     },
     "metadata": {
      "tags": []
     },
     "output_type": "display_data"
    },
    {
     "data": {
      "text/plain": [
       "<Figure size 864x432 with 0 Axes>"
      ]
     },
     "metadata": {
      "tags": []
     },
     "output_type": "display_data"
    },
    {
     "data": {
      "text/plain": [
       "<Figure size 864x432 with 0 Axes>"
      ]
     },
     "metadata": {
      "tags": []
     },
     "output_type": "display_data"
    },
    {
     "data": {
      "text/plain": [
       "<Figure size 864x432 with 0 Axes>"
      ]
     },
     "metadata": {
      "tags": []
     },
     "output_type": "display_data"
    },
    {
     "data": {
      "text/plain": [
       "<Figure size 864x432 with 0 Axes>"
      ]
     },
     "metadata": {
      "tags": []
     },
     "output_type": "display_data"
    },
    {
     "data": {
      "text/plain": [
       "<Figure size 864x432 with 0 Axes>"
      ]
     },
     "metadata": {
      "tags": []
     },
     "output_type": "display_data"
    },
    {
     "data": {
      "image/png": "[encoded data removed]",
      "text/plain": [
       "<Figure size 864x432 with 1 Axes>"
      ]
     },
     "metadata": {
      "needs_background": "light",
      "tags": []
     },
     "output_type": "display_data"
    }
   ],
   "source": [
    "# Plotting K Value and Mean error\n",
    "error = []\n",
    "\n",
    "# Calculating error for K values between 1 and 35\n",
    "for i in range(1, 35):\n",
    "    classifier = KNeighborsClassifier(n_neighbors=i)\n",
    "    classifier.fit(x_train, y_train)\n",
    "    pred_i = classifier.predict(x_val)\n",
    "    error.append(np.mean(pred_i != y_val))\n",
    "    plt.figure(figsize=(12, 6))\n",
    "plt.plot(range(1, 35), error, color='red', linestyle='dashed', marker='o',\n",
    "         markerfacecolor='blue', markersize=10)\n",
    "plt.title('Error Rate K Value')\n",
    "plt.xlabel('K Value')\n",
    "plt.ylabel('Mean Error')"
   ]
  },
  {
   "cell_type": "code",
   "execution_count": 300,
   "metadata": {
    "colab": {
     "base_uri": "https://localhost:8080/",
     "height": 441
    },
    "id": "o4ZUD0pidy5a",
    "outputId": "a68bf04c-4e42-4beb-ce10-47ca5caa1425"
   },
   "outputs": [
    {
     "name": "stdout",
     "output_type": "stream",
     "text": [
      "[0.6176470588235294]\n",
      "[0.6176470588235294, 0.6764705882352942]\n",
      "[0.6176470588235294, 0.6764705882352942, 0.6176470588235294]\n",
      "[0.6176470588235294, 0.6764705882352942, 0.6176470588235294, 0.5882352941176471]\n",
      "[0.6176470588235294, 0.6764705882352942, 0.6176470588235294, 0.5882352941176471, 0.5882352941176471]\n",
      "[0.6176470588235294, 0.6764705882352942, 0.6176470588235294, 0.5882352941176471, 0.5882352941176471, 0.5588235294117647]\n",
      "[0.6176470588235294, 0.6764705882352942, 0.6176470588235294, 0.5882352941176471, 0.5882352941176471, 0.5588235294117647, 0.5588235294117647]\n"
     ]
    },
    {
     "data": {
      "text/plain": [
       "Text(0, 0.5, 'Accuracy of Sample Model')"
      ]
     },
     "execution_count": 300,
     "metadata": {
      "tags": []
     },
     "output_type": "execute_result"
    },
    {
     "data": {
      "image/png": "[encoded data removed]",
      "text/plain": [
       "<Figure size 432x288 with 1 Axes>"
      ]
     },
     "metadata": {
      "needs_background": "light",
      "tags": []
     },
     "output_type": "display_data"
    }
   ],
   "source": [
    "# In order to find best K value for Sample model\n",
    "from sklearn import metrics\n",
    "# try K=1 through K=35 and record testing accuracy\n",
    "k_range = [1,5,10,15,20,25,35]\n",
    "# We can create Python dictionary using [] or dict()\n",
    "scores = []\n",
    "# We use a loop through the range 1 to 26\n",
    "# We append the scores in the dictionary\n",
    "for k in k_range:\n",
    "  knn = KNeighborsClassifier(n_neighbors=k, weights='distance', metric='minkowski', p=2)\n",
    "# p=1 manhattan_distance, p=2 eulicdean_distance\n",
    "  knn.fit(x_train, y_train)\n",
    "  y_pred = knn.predict(x_val)\n",
    "  scores.append(metrics.accuracy_score(y_val, y_pred))\n",
    "  print(scores)\n",
    "plt.plot(k_range, scores, color='red', linestyle='dashed', marker='o', markerfacecolor='blue', markersize=10)\n",
    "plt.xlabel('K Value')\n",
    "plt.ylabel('Accuracy of Sample Model')\n"
   ]
  },
  {
   "cell_type": "markdown",
   "metadata": {
    "id": "IbuDw1shQyUp"
   },
   "source": [
    "From the above plot best k is when the value of Mean Error is minimum. In our case it is when k= 3, 4, 5, 7, 8. Let's pick **k=5**"
   ]
  },
  {
   "cell_type": "markdown",
   "metadata": {
    "id": "ndt0vVObS-zL"
   },
   "source": [
    "# CM7"
   ]
  },
  {
   "cell_type": "code",
   "execution_count": 301,
   "metadata": {
    "colab": {
     "base_uri": "https://localhost:8080/"
    },
    "id": "JjhKzIzpO6w-",
    "outputId": "bdd0790e-162f-493b-9f49-3e49298b25ef"
   },
   "outputs": [
    {
     "data": {
      "text/plain": [
       "KNeighborsClassifier(algorithm='auto', leaf_size=30, metric='minkowski',\n",
       "                     metric_params=None, n_jobs=None, n_neighbors=5, p=2,\n",
       "                     weights='uniform')"
      ]
     },
     "execution_count": 301,
     "metadata": {
      "tags": []
     },
     "output_type": "execute_result"
    }
   ],
   "source": [
    "classifier = KNeighborsClassifier(n_neighbors = 5, metric = 'minkowski', p =2, weights='uniform')\n",
    "classifier.fit(x_train, y_train)"
   ]
  },
  {
   "cell_type": "code",
   "execution_count": 302,
   "metadata": {
    "id": "-P112_5DPHUd"
   },
   "outputs": [],
   "source": [
    "y_pred = classifier.predict(x_val)"
   ]
  },
  {
   "cell_type": "code",
   "execution_count": 303,
   "metadata": {
    "colab": {
     "base_uri": "https://localhost:8080/"
    },
    "id": "IdfkDyGyPbhw",
    "outputId": "2b720922-abb2-4f2a-d771-3c59a3aa1837"
   },
   "outputs": [
    {
     "data": {
      "text/plain": [
       "0.6764705882352942"
      ]
     },
     "execution_count": 303,
     "metadata": {
      "tags": []
     },
     "output_type": "execute_result"
    }
   ],
   "source": [
    "accuracy_score(y_val, y_pred)"
   ]
  },
  {
   "cell_type": "code",
   "execution_count": 304,
   "metadata": {
    "id": "pJOGMcyLQZOn"
   },
   "outputs": [],
   "source": [
    "y_pred = classifier.predict(x_test)"
   ]
  },
  {
   "cell_type": "code",
   "execution_count": 305,
   "metadata": {
    "colab": {
     "base_uri": "https://localhost:8080/"
    },
    "id": "TPLfDkbdQd39",
    "outputId": "b862c3e1-0311-44e5-9bd2-86475214dbfd"
   },
   "outputs": [
    {
     "name": "stdout",
     "output_type": "stream",
     "text": [
      "[[15  1]\n",
      " [ 5 22]]\n"
     ]
    }
   ],
   "source": [
    "#Confusion Matrix\n",
    "cm= confusion_matrix(y_test, y_pred)\n",
    "print(cm)"
   ]
  },
  {
   "cell_type": "code",
   "execution_count": 306,
   "metadata": {
    "colab": {
     "base_uri": "https://localhost:8080/"
    },
    "id": "hYkPRHqwQil1",
    "outputId": "073dbc0f-0382-4456-c9c2-e0eb1db17df7"
   },
   "outputs": [
    {
     "data": {
      "text/plain": [
       "0.8604651162790697"
      ]
     },
     "execution_count": 306,
     "metadata": {
      "tags": []
     },
     "output_type": "execute_result"
    }
   ],
   "source": [
    "#Accuracy\n",
    "accuracy_score(y_test, y_pred)"
   ]
  },
  {
   "cell_type": "code",
   "execution_count": 307,
   "metadata": {
    "colab": {
     "base_uri": "https://localhost:8080/"
    },
    "id": "cnOxhCR7aOlc",
    "outputId": "533209f1-659c-4398-f54b-b13a8e38b3b2"
   },
   "outputs": [
    {
     "data": {
      "text/plain": [
       "0.9108796296296297"
      ]
     },
     "execution_count": 307,
     "metadata": {
      "tags": []
     },
     "output_type": "execute_result"
    }
   ],
   "source": [
    "#AUC \n",
    "from sklearn.metrics import roc_auc_score\n",
    "y_probas = classifier.predict_proba(x_test)\n",
    "probs = y_probas[:, 1]\n",
    "roc_auc_score(y_test, probs)"
   ]
  },
  {
   "cell_type": "code",
   "execution_count": 308,
   "metadata": {
    "colab": {
     "base_uri": "https://localhost:8080/"
    },
    "id": "g49_ztZ3RgpL",
    "outputId": "44837a53-2586-4e88-9762-f55f6de56b4a"
   },
   "outputs": [
    {
     "data": {
      "text/plain": [
       "0.8800000000000001"
      ]
     },
     "execution_count": 308,
     "metadata": {
      "tags": []
     },
     "output_type": "execute_result"
    }
   ],
   "source": [
    "#f-score\n",
    "f1_score(y_test, y_pred)"
   ]
  },
  {
   "cell_type": "markdown",
   "metadata": {
    "id": "Py5tTcgaS3mn"
   },
   "source": [
    "# CM7 Improved Model"
   ]
  },
  {
   "cell_type": "code",
   "execution_count": 309,
   "metadata": {
    "id": "QlP6ieiI-ZgW"
   },
   "outputs": [],
   "source": [
    "#Standard Scaling\n",
    "sc_x = StandardScaler()\n",
    "x_train = sc_x.fit_transform(x_train)\n",
    "x_val = sc_x.fit_transform(x_val)\n",
    "x_test = sc_x.transform(x_test)"
   ]
  },
  {
   "cell_type": "code",
   "execution_count": 310,
   "metadata": {
    "colab": {
     "base_uri": "https://localhost:8080/",
     "height": 1000
    },
    "id": "1mMAqLnDEjTa",
    "outputId": "84613a1b-25ef-47e5-c345-c655d5f69d9a"
   },
   "outputs": [
    {
     "name": "stderr",
     "output_type": "stream",
     "text": [
      "/usr/local/lib/python3.6/dist-packages/ipykernel_launcher.py:10: RuntimeWarning: More than 20 figures have been opened. Figures created through the pyplot interface (`matplotlib.pyplot.figure`) are retained until explicitly closed and may consume too much memory. (To control this warning, see the rcParam `figure.max_open_warning`).\n",
      "  # Remove the CWD from sys.path while we load stuff.\n",
      "/usr/local/lib/python3.6/dist-packages/ipykernel_launcher.py:10: RuntimeWarning: More than 20 figures have been opened. Figures created through the pyplot interface (`matplotlib.pyplot.figure`) are retained until explicitly closed and may consume too much memory. (To control this warning, see the rcParam `figure.max_open_warning`).\n",
      "  # Remove the CWD from sys.path while we load stuff.\n",
      "/usr/local/lib/python3.6/dist-packages/ipykernel_launcher.py:10: RuntimeWarning: More than 20 figures have been opened. Figures created through the pyplot interface (`matplotlib.pyplot.figure`) are retained until explicitly closed and may consume too much memory. (To control this warning, see the rcParam `figure.max_open_warning`).\n",
      "  # Remove the CWD from sys.path while we load stuff.\n",
      "/usr/local/lib/python3.6/dist-packages/ipykernel_launcher.py:10: RuntimeWarning: More than 20 figures have been opened. Figures created through the pyplot interface (`matplotlib.pyplot.figure`) are retained until explicitly closed and may consume too much memory. (To control this warning, see the rcParam `figure.max_open_warning`).\n",
      "  # Remove the CWD from sys.path while we load stuff.\n",
      "/usr/local/lib/python3.6/dist-packages/ipykernel_launcher.py:10: RuntimeWarning: More than 20 figures have been opened. Figures created through the pyplot interface (`matplotlib.pyplot.figure`) are retained until explicitly closed and may consume too much memory. (To control this warning, see the rcParam `figure.max_open_warning`).\n",
      "  # Remove the CWD from sys.path while we load stuff.\n",
      "/usr/local/lib/python3.6/dist-packages/ipykernel_launcher.py:10: RuntimeWarning: More than 20 figures have been opened. Figures created through the pyplot interface (`matplotlib.pyplot.figure`) are retained until explicitly closed and may consume too much memory. (To control this warning, see the rcParam `figure.max_open_warning`).\n",
      "  # Remove the CWD from sys.path while we load stuff.\n",
      "/usr/local/lib/python3.6/dist-packages/ipykernel_launcher.py:10: RuntimeWarning: More than 20 figures have been opened. Figures created through the pyplot interface (`matplotlib.pyplot.figure`) are retained until explicitly closed and may consume too much memory. (To control this warning, see the rcParam `figure.max_open_warning`).\n",
      "  # Remove the CWD from sys.path while we load stuff.\n",
      "/usr/local/lib/python3.6/dist-packages/ipykernel_launcher.py:10: RuntimeWarning: More than 20 figures have been opened. Figures created through the pyplot interface (`matplotlib.pyplot.figure`) are retained until explicitly closed and may consume too much memory. (To control this warning, see the rcParam `figure.max_open_warning`).\n",
      "  # Remove the CWD from sys.path while we load stuff.\n",
      "/usr/local/lib/python3.6/dist-packages/ipykernel_launcher.py:10: RuntimeWarning: More than 20 figures have been opened. Figures created through the pyplot interface (`matplotlib.pyplot.figure`) are retained until explicitly closed and may consume too much memory. (To control this warning, see the rcParam `figure.max_open_warning`).\n",
      "  # Remove the CWD from sys.path while we load stuff.\n",
      "/usr/local/lib/python3.6/dist-packages/ipykernel_launcher.py:10: RuntimeWarning: More than 20 figures have been opened. Figures created through the pyplot interface (`matplotlib.pyplot.figure`) are retained until explicitly closed and may consume too much memory. (To control this warning, see the rcParam `figure.max_open_warning`).\n",
      "  # Remove the CWD from sys.path while we load stuff.\n",
      "/usr/local/lib/python3.6/dist-packages/ipykernel_launcher.py:10: RuntimeWarning: More than 20 figures have been opened. Figures created through the pyplot interface (`matplotlib.pyplot.figure`) are retained until explicitly closed and may consume too much memory. (To control this warning, see the rcParam `figure.max_open_warning`).\n",
      "  # Remove the CWD from sys.path while we load stuff.\n",
      "/usr/local/lib/python3.6/dist-packages/ipykernel_launcher.py:10: RuntimeWarning: More than 20 figures have been opened. Figures created through the pyplot interface (`matplotlib.pyplot.figure`) are retained until explicitly closed and may consume too much memory. (To control this warning, see the rcParam `figure.max_open_warning`).\n",
      "  # Remove the CWD from sys.path while we load stuff.\n",
      "/usr/local/lib/python3.6/dist-packages/ipykernel_launcher.py:10: RuntimeWarning: More than 20 figures have been opened. Figures created through the pyplot interface (`matplotlib.pyplot.figure`) are retained until explicitly closed and may consume too much memory. (To control this warning, see the rcParam `figure.max_open_warning`).\n",
      "  # Remove the CWD from sys.path while we load stuff.\n",
      "/usr/local/lib/python3.6/dist-packages/ipykernel_launcher.py:10: RuntimeWarning: More than 20 figures have been opened. Figures created through the pyplot interface (`matplotlib.pyplot.figure`) are retained until explicitly closed and may consume too much memory. (To control this warning, see the rcParam `figure.max_open_warning`).\n",
      "  # Remove the CWD from sys.path while we load stuff.\n",
      "/usr/local/lib/python3.6/dist-packages/ipykernel_launcher.py:10: RuntimeWarning: More than 20 figures have been opened. Figures created through the pyplot interface (`matplotlib.pyplot.figure`) are retained until explicitly closed and may consume too much memory. (To control this warning, see the rcParam `figure.max_open_warning`).\n",
      "  # Remove the CWD from sys.path while we load stuff.\n",
      "/usr/local/lib/python3.6/dist-packages/ipykernel_launcher.py:10: RuntimeWarning: More than 20 figures have been opened. Figures created through the pyplot interface (`matplotlib.pyplot.figure`) are retained until explicitly closed and may consume too much memory. (To control this warning, see the rcParam `figure.max_open_warning`).\n",
      "  # Remove the CWD from sys.path while we load stuff.\n",
      "/usr/local/lib/python3.6/dist-packages/ipykernel_launcher.py:10: RuntimeWarning: More than 20 figures have been opened. Figures created through the pyplot interface (`matplotlib.pyplot.figure`) are retained until explicitly closed and may consume too much memory. (To control this warning, see the rcParam `figure.max_open_warning`).\n",
      "  # Remove the CWD from sys.path while we load stuff.\n",
      "/usr/local/lib/python3.6/dist-packages/ipykernel_launcher.py:10: RuntimeWarning: More than 20 figures have been opened. Figures created through the pyplot interface (`matplotlib.pyplot.figure`) are retained until explicitly closed and may consume too much memory. (To control this warning, see the rcParam `figure.max_open_warning`).\n",
      "  # Remove the CWD from sys.path while we load stuff.\n",
      "/usr/local/lib/python3.6/dist-packages/ipykernel_launcher.py:10: RuntimeWarning: More than 20 figures have been opened. Figures created through the pyplot interface (`matplotlib.pyplot.figure`) are retained until explicitly closed and may consume too much memory. (To control this warning, see the rcParam `figure.max_open_warning`).\n",
      "  # Remove the CWD from sys.path while we load stuff.\n"
     ]
    },
    {
     "data": {
      "text/plain": [
       "Text(0, 0.5, 'Mean Error')"
      ]
     },
     "execution_count": 310,
     "metadata": {
      "tags": []
     },
     "output_type": "execute_result"
    },
    {
     "data": {
      "text/plain": [
       "<Figure size 864x432 with 0 Axes>"
      ]
     },
     "metadata": {
      "tags": []
     },
     "output_type": "display_data"
    },
    {
     "data": {
      "text/plain": [
       "<Figure size 864x432 with 0 Axes>"
      ]
     },
     "metadata": {
      "tags": []
     },
     "output_type": "display_data"
    },
    {
     "data": {
      "text/plain": [
       "<Figure size 864x432 with 0 Axes>"
      ]
     },
     "metadata": {
      "tags": []
     },
     "output_type": "display_data"
    },
    {
     "data": {
      "text/plain": [
       "<Figure size 864x432 with 0 Axes>"
      ]
     },
     "metadata": {
      "tags": []
     },
     "output_type": "display_data"
    },
    {
     "data": {
      "text/plain": [
       "<Figure size 864x432 with 0 Axes>"
      ]
     },
     "metadata": {
      "tags": []
     },
     "output_type": "display_data"
    },
    {
     "data": {
      "text/plain": [
       "<Figure size 864x432 with 0 Axes>"
      ]
     },
     "metadata": {
      "tags": []
     },
     "output_type": "display_data"
    },
    {
     "data": {
      "text/plain": [
       "<Figure size 864x432 with 0 Axes>"
      ]
     },
     "metadata": {
      "tags": []
     },
     "output_type": "display_data"
    },
    {
     "data": {
      "text/plain": [
       "<Figure size 864x432 with 0 Axes>"
      ]
     },
     "metadata": {
      "tags": []
     },
     "output_type": "display_data"
    },
    {
     "data": {
      "text/plain": [
       "<Figure size 864x432 with 0 Axes>"
      ]
     },
     "metadata": {
      "tags": []
     },
     "output_type": "display_data"
    },
    {
     "data": {
      "text/plain": [
       "<Figure size 864x432 with 0 Axes>"
      ]
     },
     "metadata": {
      "tags": []
     },
     "output_type": "display_data"
    },
    {
     "data": {
      "text/plain": [
       "<Figure size 864x432 with 0 Axes>"
      ]
     },
     "metadata": {
      "tags": []
     },
     "output_type": "display_data"
    },
    {
     "data": {
      "text/plain": [
       "<Figure size 864x432 with 0 Axes>"
      ]
     },
     "metadata": {
      "tags": []
     },
     "output_type": "display_data"
    },
    {
     "data": {
      "text/plain": [
       "<Figure size 864x432 with 0 Axes>"
      ]
     },
     "metadata": {
      "tags": []
     },
     "output_type": "display_data"
    },
    {
     "data": {
      "text/plain": [
       "<Figure size 864x432 with 0 Axes>"
      ]
     },
     "metadata": {
      "tags": []
     },
     "output_type": "display_data"
    },
    {
     "data": {
      "text/plain": [
       "<Figure size 864x432 with 0 Axes>"
      ]
     },
     "metadata": {
      "tags": []
     },
     "output_type": "display_data"
    },
    {
     "data": {
      "text/plain": [
       "<Figure size 864x432 with 0 Axes>"
      ]
     },
     "metadata": {
      "tags": []
     },
     "output_type": "display_data"
    },
    {
     "data": {
      "text/plain": [
       "<Figure size 864x432 with 0 Axes>"
      ]
     },
     "metadata": {
      "tags": []
     },
     "output_type": "display_data"
    },
    {
     "data": {
      "text/plain": [
       "<Figure size 864x432 with 0 Axes>"
      ]
     },
     "metadata": {
      "tags": []
     },
     "output_type": "display_data"
    },
    {
     "data": {
      "text/plain": [
       "<Figure size 864x432 with 0 Axes>"
      ]
     },
     "metadata": {
      "tags": []
     },
     "output_type": "display_data"
    },
    {
     "data": {
      "text/plain": [
       "<Figure size 864x432 with 0 Axes>"
      ]
     },
     "metadata": {
      "tags": []
     },
     "output_type": "display_data"
    },
    {
     "data": {
      "text/plain": [
       "<Figure size 864x432 with 0 Axes>"
      ]
     },
     "metadata": {
      "tags": []
     },
     "output_type": "display_data"
    },
    {
     "data": {
      "text/plain": [
       "<Figure size 864x432 with 0 Axes>"
      ]
     },
     "metadata": {
      "tags": []
     },
     "output_type": "display_data"
    },
    {
     "data": {
      "text/plain": [
       "<Figure size 864x432 with 0 Axes>"
      ]
     },
     "metadata": {
      "tags": []
     },
     "output_type": "display_data"
    },
    {
     "data": {
      "text/plain": [
       "<Figure size 864x432 with 0 Axes>"
      ]
     },
     "metadata": {
      "tags": []
     },
     "output_type": "display_data"
    },
    {
     "data": {
      "text/plain": [
       "<Figure size 864x432 with 0 Axes>"
      ]
     },
     "metadata": {
      "tags": []
     },
     "output_type": "display_data"
    },
    {
     "data": {
      "text/plain": [
       "<Figure size 864x432 with 0 Axes>"
      ]
     },
     "metadata": {
      "tags": []
     },
     "output_type": "display_data"
    },
    {
     "data": {
      "text/plain": [
       "<Figure size 864x432 with 0 Axes>"
      ]
     },
     "metadata": {
      "tags": []
     },
     "output_type": "display_data"
    },
    {
     "data": {
      "text/plain": [
       "<Figure size 864x432 with 0 Axes>"
      ]
     },
     "metadata": {
      "tags": []
     },
     "output_type": "display_data"
    },
    {
     "data": {
      "text/plain": [
       "<Figure size 864x432 with 0 Axes>"
      ]
     },
     "metadata": {
      "tags": []
     },
     "output_type": "display_data"
    },
    {
     "data": {
      "text/plain": [
       "<Figure size 864x432 with 0 Axes>"
      ]
     },
     "metadata": {
      "tags": []
     },
     "output_type": "display_data"
    },
    {
     "data": {
      "text/plain": [
       "<Figure size 864x432 with 0 Axes>"
      ]
     },
     "metadata": {
      "tags": []
     },
     "output_type": "display_data"
    },
    {
     "data": {
      "text/plain": [
       "<Figure size 864x432 with 0 Axes>"
      ]
     },
     "metadata": {
      "tags": []
     },
     "output_type": "display_data"
    },
    {
     "data": {
      "text/plain": [
       "<Figure size 864x432 with 0 Axes>"
      ]
     },
     "metadata": {
      "tags": []
     },
     "output_type": "display_data"
    },
    {
     "data": {
      "text/plain": [
       "<Figure size 864x432 with 0 Axes>"
      ]
     },
     "metadata": {
      "tags": []
     },
     "output_type": "display_data"
    },
    {
     "data": {
      "text/plain": [
       "<Figure size 864x432 with 0 Axes>"
      ]
     },
     "metadata": {
      "tags": []
     },
     "output_type": "display_data"
    },
    {
     "data": {
      "text/plain": [
       "<Figure size 864x432 with 0 Axes>"
      ]
     },
     "metadata": {
      "tags": []
     },
     "output_type": "display_data"
    },
    {
     "data": {
      "text/plain": [
       "<Figure size 864x432 with 0 Axes>"
      ]
     },
     "metadata": {
      "tags": []
     },
     "output_type": "display_data"
    },
    {
     "data": {
      "text/plain": [
       "<Figure size 864x432 with 0 Axes>"
      ]
     },
     "metadata": {
      "tags": []
     },
     "output_type": "display_data"
    },
    {
     "data": {
      "image/png": "[encoded data removed]",
      "text/plain": [
       "<Figure size 864x432 with 1 Axes>"
      ]
     },
     "metadata": {
      "needs_background": "light",
      "tags": []
     },
     "output_type": "display_data"
    }
   ],
   "source": [
    "#Finding the best K \n",
    "error = []\n",
    "\n",
    "# Calculating error for K values between 1 and 35\n",
    "for i in range(1, 40):\n",
    "    classifier = KNeighborsClassifier(n_neighbors=i)\n",
    "    classifier.fit(x_train, y_train)\n",
    "    pred_i = classifier.predict(x_val)\n",
    "    error.append(np.mean(pred_i != y_val))\n",
    "    plt.figure(figsize=(12, 6))\n",
    "plt.plot(range(1, 40), error, color='red', linestyle='dashed', marker='o',\n",
    "         markerfacecolor='blue', markersize=10)\n",
    "plt.title('Error Rate K Value')\n",
    "plt.xlabel('K Value')\n",
    "plt.ylabel('Mean Error')"
   ]
  },
  {
   "cell_type": "markdown",
   "metadata": {
    "id": "tqv0NqPDUMtF"
   },
   "source": [
    "Looking at the above plot **k=17** is the best k observed. Now lets do the weighted KNN. After many trial and tests below are the best found parameters."
   ]
  },
  {
   "cell_type": "code",
   "execution_count": 311,
   "metadata": {
    "colab": {
     "base_uri": "https://localhost:8080/"
    },
    "id": "RmV0a_KR-Lpq",
    "outputId": "f26e670e-2f68-4811-cb8b-a4757aee2859"
   },
   "outputs": [
    {
     "data": {
      "text/plain": [
       "KNeighborsClassifier(algorithm='auto', leaf_size=10, metric='euclidean',\n",
       "                     metric_params=None, n_jobs=None, n_neighbors=17, p=1,\n",
       "                     weights='uniform')"
      ]
     },
     "execution_count": 311,
     "metadata": {
      "tags": []
     },
     "output_type": "execute_result"
    }
   ],
   "source": [
    "classifier = KNeighborsClassifier(n_neighbors = 17, metric = 'euclidean', p =1, weights='uniform', leaf_size = 10)\n",
    "classifier.fit(x_train, y_train)"
   ]
  },
  {
   "cell_type": "code",
   "execution_count": 312,
   "metadata": {
    "id": "d1N1zbmDPYrv"
   },
   "outputs": [],
   "source": [
    "y_pred = classifier.predict(x_test)"
   ]
  },
  {
   "cell_type": "code",
   "execution_count": 313,
   "metadata": {
    "colab": {
     "base_uri": "https://localhost:8080/"
    },
    "id": "MgSeAKfTQvYY",
    "outputId": "71b13a3f-5f0d-43e9-f1a8-616da7aa784a"
   },
   "outputs": [
    {
     "name": "stdout",
     "output_type": "stream",
     "text": [
      "[[13  3]\n",
      " [ 1 26]]\n"
     ]
    }
   ],
   "source": [
    "#Confusion Matrix\n",
    "cm= confusion_matrix(y_test, y_pred)\n",
    "print(cm)"
   ]
  },
  {
   "cell_type": "code",
   "execution_count": 314,
   "metadata": {
    "colab": {
     "base_uri": "https://localhost:8080/"
    },
    "id": "eTFRhvfVQyWx",
    "outputId": "06d03fc6-0069-4952-ccfe-bca89b3bde2d"
   },
   "outputs": [
    {
     "data": {
      "text/plain": [
       "0.9069767441860465"
      ]
     },
     "execution_count": 314,
     "metadata": {
      "tags": []
     },
     "output_type": "execute_result"
    }
   ],
   "source": [
    "#Accuracy\n",
    "accuracy_score(y_test, y_pred)"
   ]
  },
  {
   "cell_type": "code",
   "execution_count": 315,
   "metadata": {
    "colab": {
     "base_uri": "https://localhost:8080/"
    },
    "id": "QIGhrBDJRkNE",
    "outputId": "9dc26293-a050-4f2f-b4e6-dd4b84294281"
   },
   "outputs": [
    {
     "data": {
      "text/plain": [
       "0.9285714285714286"
      ]
     },
     "execution_count": 315,
     "metadata": {
      "tags": []
     },
     "output_type": "execute_result"
    }
   ],
   "source": [
    "#f-score\n",
    "f1_score(y_test, y_pred)"
   ]
  },
  {
   "cell_type": "code",
   "execution_count": 316,
   "metadata": {
    "colab": {
     "base_uri": "https://localhost:8080/"
    },
    "id": "0nAkHRTCbvJE",
    "outputId": "83008618-35a9-40a4-cafe-09cf4032f7bf"
   },
   "outputs": [
    {
     "data": {
      "text/plain": [
       "0.8738425925925926"
      ]
     },
     "execution_count": 316,
     "metadata": {
      "tags": []
     },
     "output_type": "execute_result"
    }
   ],
   "source": [
    "#AUC Score\n",
    "y_probas = classifier.predict_proba(x_test)\n",
    "probs = y_probas[:, 1]\n",
    "roc_auc_score(y_test, probs)"
   ]
  }
 ],
 "metadata": {
  "colab": {
   "collapsed_sections": [],
   "name": "As1_grp55_Heart.ipynb",
   "provenance": []
  },
  "kernelspec": {
   "display_name": "Python 3",
   "language": "python",
   "name": "python3"
  },
  "language_info": {
   "codemirror_mode": {
    "name": "ipython",
    "version": 3
   },
   "file_extension": ".py",
   "mimetype": "text/x-python",
   "name": "python",
   "nbconvert_exporter": "python",
   "pygments_lexer": "ipython3",
   "version": "3.9.1"
  }
 },
 "nbformat": 4,
 "nbformat_minor": 1
}
